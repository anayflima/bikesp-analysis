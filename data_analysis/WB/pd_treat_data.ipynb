{
 "cells": [
  {
   "cell_type": "code",
   "execution_count": 10,
   "metadata": {},
   "outputs": [],
   "source": [
    "import pandas as pd\n",
    "import os\n",
    "\n",
    "if 'WB' in os.getcwd():\n",
    "    data_folder = '../../data/'\n",
    "elif 'data_analysis' in os.getcwd():\n",
    "    data_folder = '../data/'\n",
    "else:\n",
    "    data_folder = './data/'\n",
    "\n",
    "source_folder_path = data_folder + 'WB/'\n",
    "destination_folder_path = data_folder + 'WB/'"
   ]
  },
  {
   "cell_type": "code",
   "execution_count": 11,
   "metadata": {},
   "outputs": [],
   "source": [
    "filename = 'SAO_PAULO_PREFERENCIA_DECLARADA_2021_BANCO_03.03.2022_sheet2.csv'\n",
    "data = pd.read_csv(source_folder_path + filename)"
   ]
  },
  {
   "cell_type": "code",
   "execution_count": 12,
   "metadata": {},
   "outputs": [],
   "source": [
    "import locale\n",
    "\n",
    "def currency_to_float(money):\n",
    "    if money:\n",
    "        locale.setlocale(locale.LC_ALL, 'pt_BR.UTF8')\n",
    "        try:\n",
    "            return locale.atof(money.strip(\"R$\"))\n",
    "        except:\n",
    "            # case of money string as R$ - (no money was given)\n",
    "            return float(0)\n",
    "    else:\n",
    "        return money"
   ]
  },
  {
   "cell_type": "code",
   "execution_count": 13,
   "metadata": {},
   "outputs": [],
   "source": [
    "def time_to_float(money):\n",
    "    if money:\n",
    "        # locale.setlocale(locale.LC_ALL, 'pt_BR.UTF8')\n",
    "        return locale.atof(money.strip(\" min\"))\n",
    "        # except:\n",
    "            # case of money string as R$ - (no money was given)\n",
    "            # return float(0)\n",
    "    else:\n",
    "        return money"
   ]
  },
  {
   "cell_type": "code",
   "execution_count": 14,
   "metadata": {},
   "outputs": [],
   "source": [
    "remuneration_columns = ['Ciclista - PD (Ficha 2 - Remuneracao Bike SP)', 'Ciclista - PD (Ficha 3 - Remuneracao Bike SP)',\n",
    "                'Ciclista - PD (Ficha 1 - Custo (R$))', 'Ciclista - PD (Ficha 3 - Custo (R$))']\n",
    "\n",
    "time_columns = ['Ciclista - PD (Ficha 1 - Tempo de viagem (min))', 'Ciclista - PD (Ficha 2 - Tempo de viagem (min))',\n",
    "                'Ciclista - PD (Ficha 3 - Tempo de viagem (min))', 'Ciclista - PD (Ficha 3 - Tempo de Acesso (min))',\n",
    "                'Ciclista - PD (Ficha 3 - Tempo de Egresso (min))']"
   ]
  },
  {
   "cell_type": "code",
   "execution_count": 15,
   "metadata": {},
   "outputs": [],
   "source": [
    "for column in remuneration_columns:\n",
    "    data[column] = data[column].apply(currency_to_float)\n",
    "\n",
    "for column in time_columns:\n",
    "    data[column] = data[column].apply(time_to_float)"
   ]
  },
  {
   "cell_type": "code",
   "execution_count": 16,
   "metadata": {},
   "outputs": [],
   "source": [
    "filename = 'SAO_PAULO_PREFERENCIA_DECLARADA_2021_BANCO_03.03.2022_sheet2_treated.csv'"
   ]
  },
  {
   "cell_type": "code",
   "execution_count": 17,
   "metadata": {},
   "outputs": [],
   "source": [
    "data.to_csv(source_folder_path + filename, index=False)"
   ]
  },
  {
   "cell_type": "code",
   "execution_count": 19,
   "metadata": {},
   "outputs": [],
   "source": [
    "data = pd.read_csv(source_folder_path + 'SAO_PAULO_PREFERENCIA_DECLARADA_2021_BANCO_03.03.2022_sheet2_treated.csv', sep = ',')"
   ]
  },
  {
   "cell_type": "code",
   "execution_count": 20,
   "metadata": {},
   "outputs": [
    {
     "name": "stdout",
     "output_type": "stream",
     "text": [
      "Cabeçalho - localDaPesquisa 6654\n",
      "Ciclista – Classe da renda familiar 186\n",
      "Ciclista - 29. Qual o meio de transporte você costumava utilizar para realizar a atividade indicada no item 12 antes da pandemia? 1062\n",
      "Ciclista - 31. Quanto você costumava pagar para utilizar esse(s) meio(s) de transporte? 6378\n",
      "Ciclista - 32. Qual o valor médio que você costumava pagar de estacionamento? 4632\n",
      "Ciclista - 33. Qual o valor médio que você costumava pagar? 6558\n",
      "Ciclista - PD (Ficha 1 - Tempo de Acesso (min)) 6654\n",
      "Ciclista - PD (Ficha 1 - Tempo de Egresso (min)) 6654\n",
      "Ciclista - PD (Ficha 1 - Presenca de infraestrutura cicloviária) 6654\n",
      "Ciclista - PD (Ficha 1 - Remuneracao Bike SP) 6654\n",
      "Ciclista - PD (Ficha 1 - Estacionamento de bicicleta) 6654\n",
      "Ciclista - PD (Ficha 1 - Facilidades no destino) 6654\n",
      "Ciclista - PD (Ficha 2 - Tempo de Acesso (min)) 6654\n",
      "Ciclista - PD (Ficha 2 - Tempo de Egresso (min)) 6654\n",
      "Ciclista - PD (Ficha 2 - Custo (R$)) 6654\n",
      "Ciclista - PD (Ficha 3 - Estacionamento de bicicleta) 6654\n",
      "Ciclista - 40. Nome do entrevistado 6\n",
      "Ciclista - 41. Telefone do entrevistado 156\n",
      "Ciclista - Observações 5028\n",
      "Ciclista - Duração da pesquisa (segundos) 3342\n"
     ]
    }
   ],
   "source": [
    "for column, key in zip(data.isna().sum(), data.isna().sum().keys()):\n",
    "    if column != 0:\n",
    "        print(key, column)"
   ]
  },
  {
   "cell_type": "code",
   "execution_count": 21,
   "metadata": {},
   "outputs": [
    {
     "data": {
      "text/plain": [
       "Index(['Cenario', 'Cabeçalho - hash', 'Cabeçalho - cliente',\n",
       "       'Cabeçalho - pesquisador', 'Cabeçalho - supervisor',\n",
       "       'Cabeçalho - localDaPesquisa', 'Sincronização - dataRecebimento',\n",
       "       'Sincronização - horaRecebimento', 'Ciclista - dataCadastro',\n",
       "       'Ciclista - horaCadastro',\n",
       "       ...\n",
       "       'Ciclista - Duração da pesquisa (segundos)',\n",
       "       'Ciclista - Inicio pesquisa', 'Ciclista - Última resposta PD Cenario 1',\n",
       "       'Ciclista - Última resposta PD Cenario 2',\n",
       "       'Ciclista - Última resposta PD Cenario 3',\n",
       "       'Ciclista - Última resposta PD Cenario 4',\n",
       "       'Ciclista - Última resposta PD Cenario 5',\n",
       "       'Ciclista - Última resposta PD Cenario 6', 'Ciclista - Fim pesquisa',\n",
       "       'Ciclista - nome_arquivo_audio'],\n",
       "      dtype='object', length=109)"
      ]
     },
     "execution_count": 21,
     "metadata": {},
     "output_type": "execute_result"
    }
   ],
   "source": [
    "data.isna().sum().keys()"
   ]
  }
 ],
 "metadata": {
  "kernelspec": {
   "display_name": "Python 3",
   "language": "python",
   "name": "python3"
  },
  "language_info": {
   "codemirror_mode": {
    "name": "ipython",
    "version": 3
   },
   "file_extension": ".py",
   "mimetype": "text/x-python",
   "name": "python",
   "nbconvert_exporter": "python",
   "pygments_lexer": "ipython3",
   "version": "3.10.6"
  },
  "orig_nbformat": 4
 },
 "nbformat": 4,
 "nbformat_minor": 2
}
