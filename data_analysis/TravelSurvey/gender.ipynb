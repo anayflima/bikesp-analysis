{
 "cells": [
  {
   "cell_type": "code",
   "execution_count": 1,
   "metadata": {},
   "outputs": [],
   "source": [
    "import pandas as pd\n",
    "import os\n",
    "\n",
    "if 'TravelSurvey' in os.getcwd():\n",
    "    data_folder = '../../data/'\n",
    "elif 'data_analysis' in os.getcwd():\n",
    "    data_folder = '../data/'\n",
    "else:\n",
    "    data_folder = './data/'\n",
    "\n",
    "source_folder_path = data_folder + 'OD/OD_2017/'\n",
    "destination_folder_path = data_folder + 'OD/OD_2017/'"
   ]
  },
  {
   "cell_type": "code",
   "execution_count": 2,
   "metadata": {},
   "outputs": [],
   "source": [
    "filename = 'OD_2017_v1.csv'\n",
    "data = pd.read_csv(source_folder_path + filename)"
   ]
  },
  {
   "cell_type": "code",
   "execution_count": 3,
   "metadata": {},
   "outputs": [],
   "source": [
    "pd.set_option('display.max_columns', None)"
   ]
  },
  {
   "cell_type": "code",
   "execution_count": 4,
   "metadata": {},
   "outputs": [
    {
     "data": {
      "text/html": [
       "<div>\n",
       "<style scoped>\n",
       "    .dataframe tbody tr th:only-of-type {\n",
       "        vertical-align: middle;\n",
       "    }\n",
       "\n",
       "    .dataframe tbody tr th {\n",
       "        vertical-align: top;\n",
       "    }\n",
       "\n",
       "    .dataframe thead th {\n",
       "        text-align: right;\n",
       "    }\n",
       "</style>\n",
       "<table border=\"1\" class=\"dataframe\">\n",
       "  <thead>\n",
       "    <tr style=\"text-align: right;\">\n",
       "      <th></th>\n",
       "      <th>ZONA</th>\n",
       "      <th>MUNI_DOM</th>\n",
       "      <th>CO_DOM_X</th>\n",
       "      <th>CO_DOM_Y</th>\n",
       "      <th>ID_DOM</th>\n",
       "      <th>F_DOM</th>\n",
       "      <th>FE_DOM</th>\n",
       "      <th>DOM</th>\n",
       "      <th>CD_ENTRE</th>\n",
       "      <th>DATA</th>\n",
       "      <th>TIPO_DOM</th>\n",
       "      <th>AGUA</th>\n",
       "      <th>RUA_PAVI</th>\n",
       "      <th>NO_MORAD</th>\n",
       "      <th>TOT_FAM</th>\n",
       "      <th>ID_FAM</th>\n",
       "      <th>F_FAM</th>\n",
       "      <th>FE_FAM</th>\n",
       "      <th>FAMILIA</th>\n",
       "      <th>NO_MORAF</th>\n",
       "      <th>CONDMORA</th>\n",
       "      <th>QT_BANHO</th>\n",
       "      <th>QT_EMPRE</th>\n",
       "      <th>QT_AUTO</th>\n",
       "      <th>QT_MICRO</th>\n",
       "      <th>QT_LAVALOU</th>\n",
       "      <th>QT_GEL1</th>\n",
       "      <th>QT_GEL2</th>\n",
       "      <th>QT_FREEZ</th>\n",
       "      <th>QT_MLAVA</th>\n",
       "      <th>QT_DVD</th>\n",
       "      <th>QT_MICROON</th>\n",
       "      <th>QT_MOTO</th>\n",
       "      <th>QT_SECAROU</th>\n",
       "      <th>QT_BICICLE</th>\n",
       "      <th>NAO_DCL_IT</th>\n",
       "      <th>CRITERIOBR</th>\n",
       "      <th>PONTO_BR</th>\n",
       "      <th>ANO_AUTO1</th>\n",
       "      <th>ANO_AUTO2</th>\n",
       "      <th>ANO_AUTO3</th>\n",
       "      <th>RENDA_FA</th>\n",
       "      <th>CD_RENFA</th>\n",
       "      <th>ID_PESS</th>\n",
       "      <th>F_PESS</th>\n",
       "      <th>FE_PESS</th>\n",
       "      <th>PESSOA</th>\n",
       "      <th>SIT_FAM</th>\n",
       "      <th>IDADE</th>\n",
       "      <th>SEXO</th>\n",
       "      <th>ESTUDA</th>\n",
       "      <th>GRAU_INS</th>\n",
       "      <th>CD_ATIVI</th>\n",
       "      <th>CO_REN_I</th>\n",
       "      <th>VL_REN_I</th>\n",
       "      <th>ZONA_ESC</th>\n",
       "      <th>MUNIESC</th>\n",
       "      <th>CO_ESC_X</th>\n",
       "      <th>CO_ESC_Y</th>\n",
       "      <th>TIPO_ESC</th>\n",
       "      <th>ZONATRA1</th>\n",
       "      <th>MUNITRA1</th>\n",
       "      <th>CO_TR1_X</th>\n",
       "      <th>CO_TR1_Y</th>\n",
       "      <th>TRAB1_RE</th>\n",
       "      <th>TRABEXT1</th>\n",
       "      <th>OCUP1</th>\n",
       "      <th>SETOR1</th>\n",
       "      <th>VINC1</th>\n",
       "      <th>ZONATRA2</th>\n",
       "      <th>MUNITRA2</th>\n",
       "      <th>CO_TR2_X</th>\n",
       "      <th>CO_TR2_Y</th>\n",
       "      <th>TRAB2_RE</th>\n",
       "      <th>TRABEXT2</th>\n",
       "      <th>OCUP2</th>\n",
       "      <th>SETOR2</th>\n",
       "      <th>VINC2</th>\n",
       "      <th>N_VIAG</th>\n",
       "      <th>FE_VIA</th>\n",
       "      <th>DIA_SEM</th>\n",
       "      <th>TOT_VIAG</th>\n",
       "      <th>ZONA_O</th>\n",
       "      <th>MUNI_O</th>\n",
       "      <th>CO_O_X</th>\n",
       "      <th>CO_O_Y</th>\n",
       "      <th>ZONA_D</th>\n",
       "      <th>MUNI_D</th>\n",
       "      <th>CO_D_X</th>\n",
       "      <th>CO_D_Y</th>\n",
       "      <th>ZONA_T1</th>\n",
       "      <th>MUNI_T1</th>\n",
       "      <th>CO_T1_X</th>\n",
       "      <th>CO_T1_Y</th>\n",
       "      <th>ZONA_T2</th>\n",
       "      <th>MUNI_T2</th>\n",
       "      <th>CO_T2_X</th>\n",
       "      <th>CO_T2_Y</th>\n",
       "      <th>ZONA_T3</th>\n",
       "      <th>MUNI_T3</th>\n",
       "      <th>CO_T3_X</th>\n",
       "      <th>CO_T3_Y</th>\n",
       "      <th>MOTIVO_O</th>\n",
       "      <th>MOTIVO_D</th>\n",
       "      <th>MOT_SRES</th>\n",
       "      <th>SERVIR_O</th>\n",
       "      <th>SERVIR_D</th>\n",
       "      <th>MODO1</th>\n",
       "      <th>MODO2</th>\n",
       "      <th>MODO3</th>\n",
       "      <th>MODO4</th>\n",
       "      <th>H_SAIDA</th>\n",
       "      <th>MIN_SAIDA</th>\n",
       "      <th>ANDA_O</th>\n",
       "      <th>H_CHEG</th>\n",
       "      <th>MIN_CHEG</th>\n",
       "      <th>ANDA_D</th>\n",
       "      <th>DURACAO</th>\n",
       "      <th>MODOPRIN</th>\n",
       "      <th>TIPVG</th>\n",
       "      <th>PAG_VIAG</th>\n",
       "      <th>TP_ESAUTO</th>\n",
       "      <th>VL_EST</th>\n",
       "      <th>PE_BICI</th>\n",
       "      <th>VIA_BICI</th>\n",
       "      <th>TP_ESBICI</th>\n",
       "      <th>DISTANCIA</th>\n",
       "      <th>ID_ORDEM</th>\n",
       "    </tr>\n",
       "  </thead>\n",
       "  <tbody>\n",
       "    <tr>\n",
       "      <th>0</th>\n",
       "      <td>1</td>\n",
       "      <td>36</td>\n",
       "      <td>333743</td>\n",
       "      <td>7394463</td>\n",
       "      <td>10001</td>\n",
       "      <td>1</td>\n",
       "      <td>15.416667</td>\n",
       "      <td>1</td>\n",
       "      <td>1</td>\n",
       "      <td>6092017</td>\n",
       "      <td>1</td>\n",
       "      <td>1</td>\n",
       "      <td>1</td>\n",
       "      <td>2</td>\n",
       "      <td>1</td>\n",
       "      <td>100011</td>\n",
       "      <td>1</td>\n",
       "      <td>15.416667</td>\n",
       "      <td>1</td>\n",
       "      <td>2</td>\n",
       "      <td>2</td>\n",
       "      <td>1.0</td>\n",
       "      <td>0.0</td>\n",
       "      <td>0.0</td>\n",
       "      <td>1.0</td>\n",
       "      <td>0.0</td>\n",
       "      <td>0.0</td>\n",
       "      <td>1.0</td>\n",
       "      <td>1.0</td>\n",
       "      <td>1.0</td>\n",
       "      <td>1.0</td>\n",
       "      <td>1.0</td>\n",
       "      <td>0.0</td>\n",
       "      <td>0.0</td>\n",
       "      <td>0.0</td>\n",
       "      <td>1</td>\n",
       "      <td>4.0</td>\n",
       "      <td>25.0</td>\n",
       "      <td>NaN</td>\n",
       "      <td>NaN</td>\n",
       "      <td>NaN</td>\n",
       "      <td>2732.58</td>\n",
       "      <td>3</td>\n",
       "      <td>10001101</td>\n",
       "      <td>1</td>\n",
       "      <td>19.532274</td>\n",
       "      <td>1</td>\n",
       "      <td>1</td>\n",
       "      <td>59</td>\n",
       "      <td>2</td>\n",
       "      <td>1</td>\n",
       "      <td>3</td>\n",
       "      <td>1</td>\n",
       "      <td>3</td>\n",
       "      <td>NaN</td>\n",
       "      <td>NaN</td>\n",
       "      <td>NaN</td>\n",
       "      <td>NaN</td>\n",
       "      <td>NaN</td>\n",
       "      <td>NaN</td>\n",
       "      <td>3.0</td>\n",
       "      <td>36.0</td>\n",
       "      <td>333104.0</td>\n",
       "      <td>7394476.0</td>\n",
       "      <td>2.0</td>\n",
       "      <td>2.0</td>\n",
       "      <td>4.0</td>\n",
       "      <td>13.0</td>\n",
       "      <td>1.0</td>\n",
       "      <td>NaN</td>\n",
       "      <td>NaN</td>\n",
       "      <td>NaN</td>\n",
       "      <td>NaN</td>\n",
       "      <td>NaN</td>\n",
       "      <td>NaN</td>\n",
       "      <td>NaN</td>\n",
       "      <td>NaN</td>\n",
       "      <td>NaN</td>\n",
       "      <td>1.0</td>\n",
       "      <td>22.132647</td>\n",
       "      <td>3.0</td>\n",
       "      <td>2</td>\n",
       "      <td>1.0</td>\n",
       "      <td>36.0</td>\n",
       "      <td>333743.0</td>\n",
       "      <td>7394463.0</td>\n",
       "      <td>3.0</td>\n",
       "      <td>36.0</td>\n",
       "      <td>333104.0</td>\n",
       "      <td>7394476.0</td>\n",
       "      <td>NaN</td>\n",
       "      <td>NaN</td>\n",
       "      <td>NaN</td>\n",
       "      <td>NaN</td>\n",
       "      <td>NaN</td>\n",
       "      <td>NaN</td>\n",
       "      <td>NaN</td>\n",
       "      <td>NaN</td>\n",
       "      <td>NaN</td>\n",
       "      <td>NaN</td>\n",
       "      <td>NaN</td>\n",
       "      <td>NaN</td>\n",
       "      <td>8.0</td>\n",
       "      <td>3.0</td>\n",
       "      <td>3.0</td>\n",
       "      <td>2.0</td>\n",
       "      <td>2.0</td>\n",
       "      <td>16.0</td>\n",
       "      <td>NaN</td>\n",
       "      <td>NaN</td>\n",
       "      <td>NaN</td>\n",
       "      <td>5.0</td>\n",
       "      <td>45.0</td>\n",
       "      <td>NaN</td>\n",
       "      <td>5.0</td>\n",
       "      <td>55.0</td>\n",
       "      <td>NaN</td>\n",
       "      <td>10.0</td>\n",
       "      <td>16.0</td>\n",
       "      <td>3.0</td>\n",
       "      <td>NaN</td>\n",
       "      <td>NaN</td>\n",
       "      <td>NaN</td>\n",
       "      <td>1.0</td>\n",
       "      <td>NaN</td>\n",
       "      <td>NaN</td>\n",
       "      <td>639.13</td>\n",
       "      <td>1</td>\n",
       "    </tr>\n",
       "    <tr>\n",
       "      <th>1</th>\n",
       "      <td>1</td>\n",
       "      <td>36</td>\n",
       "      <td>333743</td>\n",
       "      <td>7394463</td>\n",
       "      <td>10001</td>\n",
       "      <td>0</td>\n",
       "      <td>15.416667</td>\n",
       "      <td>1</td>\n",
       "      <td>1</td>\n",
       "      <td>6092017</td>\n",
       "      <td>1</td>\n",
       "      <td>1</td>\n",
       "      <td>1</td>\n",
       "      <td>2</td>\n",
       "      <td>1</td>\n",
       "      <td>100011</td>\n",
       "      <td>0</td>\n",
       "      <td>15.416667</td>\n",
       "      <td>1</td>\n",
       "      <td>2</td>\n",
       "      <td>2</td>\n",
       "      <td>1.0</td>\n",
       "      <td>0.0</td>\n",
       "      <td>0.0</td>\n",
       "      <td>1.0</td>\n",
       "      <td>0.0</td>\n",
       "      <td>0.0</td>\n",
       "      <td>1.0</td>\n",
       "      <td>1.0</td>\n",
       "      <td>1.0</td>\n",
       "      <td>1.0</td>\n",
       "      <td>1.0</td>\n",
       "      <td>0.0</td>\n",
       "      <td>0.0</td>\n",
       "      <td>0.0</td>\n",
       "      <td>1</td>\n",
       "      <td>4.0</td>\n",
       "      <td>25.0</td>\n",
       "      <td>NaN</td>\n",
       "      <td>NaN</td>\n",
       "      <td>NaN</td>\n",
       "      <td>2732.58</td>\n",
       "      <td>3</td>\n",
       "      <td>10001101</td>\n",
       "      <td>0</td>\n",
       "      <td>19.532274</td>\n",
       "      <td>1</td>\n",
       "      <td>1</td>\n",
       "      <td>59</td>\n",
       "      <td>2</td>\n",
       "      <td>1</td>\n",
       "      <td>3</td>\n",
       "      <td>1</td>\n",
       "      <td>3</td>\n",
       "      <td>NaN</td>\n",
       "      <td>NaN</td>\n",
       "      <td>NaN</td>\n",
       "      <td>NaN</td>\n",
       "      <td>NaN</td>\n",
       "      <td>NaN</td>\n",
       "      <td>3.0</td>\n",
       "      <td>36.0</td>\n",
       "      <td>333104.0</td>\n",
       "      <td>7394476.0</td>\n",
       "      <td>2.0</td>\n",
       "      <td>2.0</td>\n",
       "      <td>4.0</td>\n",
       "      <td>13.0</td>\n",
       "      <td>1.0</td>\n",
       "      <td>NaN</td>\n",
       "      <td>NaN</td>\n",
       "      <td>NaN</td>\n",
       "      <td>NaN</td>\n",
       "      <td>NaN</td>\n",
       "      <td>NaN</td>\n",
       "      <td>NaN</td>\n",
       "      <td>NaN</td>\n",
       "      <td>NaN</td>\n",
       "      <td>2.0</td>\n",
       "      <td>22.132647</td>\n",
       "      <td>3.0</td>\n",
       "      <td>2</td>\n",
       "      <td>3.0</td>\n",
       "      <td>36.0</td>\n",
       "      <td>333104.0</td>\n",
       "      <td>7394476.0</td>\n",
       "      <td>1.0</td>\n",
       "      <td>36.0</td>\n",
       "      <td>333743.0</td>\n",
       "      <td>7394463.0</td>\n",
       "      <td>NaN</td>\n",
       "      <td>NaN</td>\n",
       "      <td>NaN</td>\n",
       "      <td>NaN</td>\n",
       "      <td>NaN</td>\n",
       "      <td>NaN</td>\n",
       "      <td>NaN</td>\n",
       "      <td>NaN</td>\n",
       "      <td>NaN</td>\n",
       "      <td>NaN</td>\n",
       "      <td>NaN</td>\n",
       "      <td>NaN</td>\n",
       "      <td>3.0</td>\n",
       "      <td>8.0</td>\n",
       "      <td>3.0</td>\n",
       "      <td>2.0</td>\n",
       "      <td>2.0</td>\n",
       "      <td>16.0</td>\n",
       "      <td>NaN</td>\n",
       "      <td>NaN</td>\n",
       "      <td>NaN</td>\n",
       "      <td>15.0</td>\n",
       "      <td>45.0</td>\n",
       "      <td>NaN</td>\n",
       "      <td>15.0</td>\n",
       "      <td>55.0</td>\n",
       "      <td>NaN</td>\n",
       "      <td>10.0</td>\n",
       "      <td>16.0</td>\n",
       "      <td>3.0</td>\n",
       "      <td>NaN</td>\n",
       "      <td>NaN</td>\n",
       "      <td>NaN</td>\n",
       "      <td>1.0</td>\n",
       "      <td>NaN</td>\n",
       "      <td>NaN</td>\n",
       "      <td>639.13</td>\n",
       "      <td>2</td>\n",
       "    </tr>\n",
       "    <tr>\n",
       "      <th>2</th>\n",
       "      <td>1</td>\n",
       "      <td>36</td>\n",
       "      <td>333743</td>\n",
       "      <td>7394463</td>\n",
       "      <td>10001</td>\n",
       "      <td>0</td>\n",
       "      <td>15.416667</td>\n",
       "      <td>1</td>\n",
       "      <td>1</td>\n",
       "      <td>6092017</td>\n",
       "      <td>1</td>\n",
       "      <td>1</td>\n",
       "      <td>1</td>\n",
       "      <td>2</td>\n",
       "      <td>1</td>\n",
       "      <td>100011</td>\n",
       "      <td>0</td>\n",
       "      <td>15.416667</td>\n",
       "      <td>1</td>\n",
       "      <td>2</td>\n",
       "      <td>2</td>\n",
       "      <td>1.0</td>\n",
       "      <td>0.0</td>\n",
       "      <td>0.0</td>\n",
       "      <td>1.0</td>\n",
       "      <td>0.0</td>\n",
       "      <td>0.0</td>\n",
       "      <td>1.0</td>\n",
       "      <td>1.0</td>\n",
       "      <td>1.0</td>\n",
       "      <td>1.0</td>\n",
       "      <td>1.0</td>\n",
       "      <td>0.0</td>\n",
       "      <td>0.0</td>\n",
       "      <td>0.0</td>\n",
       "      <td>1</td>\n",
       "      <td>4.0</td>\n",
       "      <td>25.0</td>\n",
       "      <td>NaN</td>\n",
       "      <td>NaN</td>\n",
       "      <td>NaN</td>\n",
       "      <td>2732.58</td>\n",
       "      <td>3</td>\n",
       "      <td>10001102</td>\n",
       "      <td>1</td>\n",
       "      <td>16.663976</td>\n",
       "      <td>2</td>\n",
       "      <td>3</td>\n",
       "      <td>21</td>\n",
       "      <td>2</td>\n",
       "      <td>5</td>\n",
       "      <td>4</td>\n",
       "      <td>1</td>\n",
       "      <td>3</td>\n",
       "      <td>NaN</td>\n",
       "      <td>84.0</td>\n",
       "      <td>36.0</td>\n",
       "      <td>329431.0</td>\n",
       "      <td>7395939.0</td>\n",
       "      <td>2.0</td>\n",
       "      <td>82.0</td>\n",
       "      <td>36.0</td>\n",
       "      <td>327503.0</td>\n",
       "      <td>7392159.0</td>\n",
       "      <td>2.0</td>\n",
       "      <td>2.0</td>\n",
       "      <td>4.0</td>\n",
       "      <td>7.0</td>\n",
       "      <td>2.0</td>\n",
       "      <td>NaN</td>\n",
       "      <td>NaN</td>\n",
       "      <td>NaN</td>\n",
       "      <td>NaN</td>\n",
       "      <td>NaN</td>\n",
       "      <td>NaN</td>\n",
       "      <td>NaN</td>\n",
       "      <td>NaN</td>\n",
       "      <td>NaN</td>\n",
       "      <td>1.0</td>\n",
       "      <td>18.882487</td>\n",
       "      <td>3.0</td>\n",
       "      <td>3</td>\n",
       "      <td>1.0</td>\n",
       "      <td>36.0</td>\n",
       "      <td>333743.0</td>\n",
       "      <td>7394463.0</td>\n",
       "      <td>82.0</td>\n",
       "      <td>36.0</td>\n",
       "      <td>327503.0</td>\n",
       "      <td>7392159.0</td>\n",
       "      <td>NaN</td>\n",
       "      <td>NaN</td>\n",
       "      <td>NaN</td>\n",
       "      <td>NaN</td>\n",
       "      <td>NaN</td>\n",
       "      <td>NaN</td>\n",
       "      <td>NaN</td>\n",
       "      <td>NaN</td>\n",
       "      <td>NaN</td>\n",
       "      <td>NaN</td>\n",
       "      <td>NaN</td>\n",
       "      <td>NaN</td>\n",
       "      <td>8.0</td>\n",
       "      <td>3.0</td>\n",
       "      <td>3.0</td>\n",
       "      <td>2.0</td>\n",
       "      <td>2.0</td>\n",
       "      <td>1.0</td>\n",
       "      <td>NaN</td>\n",
       "      <td>NaN</td>\n",
       "      <td>NaN</td>\n",
       "      <td>9.0</td>\n",
       "      <td>0.0</td>\n",
       "      <td>10.0</td>\n",
       "      <td>9.0</td>\n",
       "      <td>50.0</td>\n",
       "      <td>20.0</td>\n",
       "      <td>50.0</td>\n",
       "      <td>1.0</td>\n",
       "      <td>1.0</td>\n",
       "      <td>2.0</td>\n",
       "      <td>NaN</td>\n",
       "      <td>NaN</td>\n",
       "      <td>NaN</td>\n",
       "      <td>NaN</td>\n",
       "      <td>NaN</td>\n",
       "      <td>6651.77</td>\n",
       "      <td>3</td>\n",
       "    </tr>\n",
       "    <tr>\n",
       "      <th>3</th>\n",
       "      <td>1</td>\n",
       "      <td>36</td>\n",
       "      <td>333743</td>\n",
       "      <td>7394463</td>\n",
       "      <td>10001</td>\n",
       "      <td>0</td>\n",
       "      <td>15.416667</td>\n",
       "      <td>1</td>\n",
       "      <td>1</td>\n",
       "      <td>6092017</td>\n",
       "      <td>1</td>\n",
       "      <td>1</td>\n",
       "      <td>1</td>\n",
       "      <td>2</td>\n",
       "      <td>1</td>\n",
       "      <td>100011</td>\n",
       "      <td>0</td>\n",
       "      <td>15.416667</td>\n",
       "      <td>1</td>\n",
       "      <td>2</td>\n",
       "      <td>2</td>\n",
       "      <td>1.0</td>\n",
       "      <td>0.0</td>\n",
       "      <td>0.0</td>\n",
       "      <td>1.0</td>\n",
       "      <td>0.0</td>\n",
       "      <td>0.0</td>\n",
       "      <td>1.0</td>\n",
       "      <td>1.0</td>\n",
       "      <td>1.0</td>\n",
       "      <td>1.0</td>\n",
       "      <td>1.0</td>\n",
       "      <td>0.0</td>\n",
       "      <td>0.0</td>\n",
       "      <td>0.0</td>\n",
       "      <td>1</td>\n",
       "      <td>4.0</td>\n",
       "      <td>25.0</td>\n",
       "      <td>NaN</td>\n",
       "      <td>NaN</td>\n",
       "      <td>NaN</td>\n",
       "      <td>2732.58</td>\n",
       "      <td>3</td>\n",
       "      <td>10001102</td>\n",
       "      <td>0</td>\n",
       "      <td>16.663976</td>\n",
       "      <td>2</td>\n",
       "      <td>3</td>\n",
       "      <td>21</td>\n",
       "      <td>2</td>\n",
       "      <td>5</td>\n",
       "      <td>4</td>\n",
       "      <td>1</td>\n",
       "      <td>3</td>\n",
       "      <td>NaN</td>\n",
       "      <td>84.0</td>\n",
       "      <td>36.0</td>\n",
       "      <td>329431.0</td>\n",
       "      <td>7395939.0</td>\n",
       "      <td>2.0</td>\n",
       "      <td>82.0</td>\n",
       "      <td>36.0</td>\n",
       "      <td>327503.0</td>\n",
       "      <td>7392159.0</td>\n",
       "      <td>2.0</td>\n",
       "      <td>2.0</td>\n",
       "      <td>4.0</td>\n",
       "      <td>7.0</td>\n",
       "      <td>2.0</td>\n",
       "      <td>NaN</td>\n",
       "      <td>NaN</td>\n",
       "      <td>NaN</td>\n",
       "      <td>NaN</td>\n",
       "      <td>NaN</td>\n",
       "      <td>NaN</td>\n",
       "      <td>NaN</td>\n",
       "      <td>NaN</td>\n",
       "      <td>NaN</td>\n",
       "      <td>2.0</td>\n",
       "      <td>18.882487</td>\n",
       "      <td>3.0</td>\n",
       "      <td>3</td>\n",
       "      <td>82.0</td>\n",
       "      <td>36.0</td>\n",
       "      <td>327503.0</td>\n",
       "      <td>7392159.0</td>\n",
       "      <td>84.0</td>\n",
       "      <td>36.0</td>\n",
       "      <td>329431.0</td>\n",
       "      <td>7395939.0</td>\n",
       "      <td>93.0</td>\n",
       "      <td>36.0</td>\n",
       "      <td>329861.0</td>\n",
       "      <td>7397268.0</td>\n",
       "      <td>NaN</td>\n",
       "      <td>NaN</td>\n",
       "      <td>NaN</td>\n",
       "      <td>NaN</td>\n",
       "      <td>NaN</td>\n",
       "      <td>NaN</td>\n",
       "      <td>NaN</td>\n",
       "      <td>NaN</td>\n",
       "      <td>3.0</td>\n",
       "      <td>4.0</td>\n",
       "      <td>4.0</td>\n",
       "      <td>2.0</td>\n",
       "      <td>2.0</td>\n",
       "      <td>1.0</td>\n",
       "      <td>4.0</td>\n",
       "      <td>NaN</td>\n",
       "      <td>NaN</td>\n",
       "      <td>17.0</td>\n",
       "      <td>0.0</td>\n",
       "      <td>20.0</td>\n",
       "      <td>18.0</td>\n",
       "      <td>0.0</td>\n",
       "      <td>1.0</td>\n",
       "      <td>60.0</td>\n",
       "      <td>1.0</td>\n",
       "      <td>1.0</td>\n",
       "      <td>2.0</td>\n",
       "      <td>NaN</td>\n",
       "      <td>NaN</td>\n",
       "      <td>NaN</td>\n",
       "      <td>NaN</td>\n",
       "      <td>NaN</td>\n",
       "      <td>4243.30</td>\n",
       "      <td>4</td>\n",
       "    </tr>\n",
       "    <tr>\n",
       "      <th>4</th>\n",
       "      <td>1</td>\n",
       "      <td>36</td>\n",
       "      <td>333743</td>\n",
       "      <td>7394463</td>\n",
       "      <td>10001</td>\n",
       "      <td>0</td>\n",
       "      <td>15.416667</td>\n",
       "      <td>1</td>\n",
       "      <td>1</td>\n",
       "      <td>6092017</td>\n",
       "      <td>1</td>\n",
       "      <td>1</td>\n",
       "      <td>1</td>\n",
       "      <td>2</td>\n",
       "      <td>1</td>\n",
       "      <td>100011</td>\n",
       "      <td>0</td>\n",
       "      <td>15.416667</td>\n",
       "      <td>1</td>\n",
       "      <td>2</td>\n",
       "      <td>2</td>\n",
       "      <td>1.0</td>\n",
       "      <td>0.0</td>\n",
       "      <td>0.0</td>\n",
       "      <td>1.0</td>\n",
       "      <td>0.0</td>\n",
       "      <td>0.0</td>\n",
       "      <td>1.0</td>\n",
       "      <td>1.0</td>\n",
       "      <td>1.0</td>\n",
       "      <td>1.0</td>\n",
       "      <td>1.0</td>\n",
       "      <td>0.0</td>\n",
       "      <td>0.0</td>\n",
       "      <td>0.0</td>\n",
       "      <td>1</td>\n",
       "      <td>4.0</td>\n",
       "      <td>25.0</td>\n",
       "      <td>NaN</td>\n",
       "      <td>NaN</td>\n",
       "      <td>NaN</td>\n",
       "      <td>2732.58</td>\n",
       "      <td>3</td>\n",
       "      <td>10001102</td>\n",
       "      <td>0</td>\n",
       "      <td>16.663976</td>\n",
       "      <td>2</td>\n",
       "      <td>3</td>\n",
       "      <td>21</td>\n",
       "      <td>2</td>\n",
       "      <td>5</td>\n",
       "      <td>4</td>\n",
       "      <td>1</td>\n",
       "      <td>3</td>\n",
       "      <td>NaN</td>\n",
       "      <td>84.0</td>\n",
       "      <td>36.0</td>\n",
       "      <td>329431.0</td>\n",
       "      <td>7395939.0</td>\n",
       "      <td>2.0</td>\n",
       "      <td>82.0</td>\n",
       "      <td>36.0</td>\n",
       "      <td>327503.0</td>\n",
       "      <td>7392159.0</td>\n",
       "      <td>2.0</td>\n",
       "      <td>2.0</td>\n",
       "      <td>4.0</td>\n",
       "      <td>7.0</td>\n",
       "      <td>2.0</td>\n",
       "      <td>NaN</td>\n",
       "      <td>NaN</td>\n",
       "      <td>NaN</td>\n",
       "      <td>NaN</td>\n",
       "      <td>NaN</td>\n",
       "      <td>NaN</td>\n",
       "      <td>NaN</td>\n",
       "      <td>NaN</td>\n",
       "      <td>NaN</td>\n",
       "      <td>3.0</td>\n",
       "      <td>18.882487</td>\n",
       "      <td>3.0</td>\n",
       "      <td>3</td>\n",
       "      <td>84.0</td>\n",
       "      <td>36.0</td>\n",
       "      <td>329431.0</td>\n",
       "      <td>7395939.0</td>\n",
       "      <td>1.0</td>\n",
       "      <td>36.0</td>\n",
       "      <td>333743.0</td>\n",
       "      <td>7394463.0</td>\n",
       "      <td>NaN</td>\n",
       "      <td>NaN</td>\n",
       "      <td>NaN</td>\n",
       "      <td>NaN</td>\n",
       "      <td>NaN</td>\n",
       "      <td>NaN</td>\n",
       "      <td>NaN</td>\n",
       "      <td>NaN</td>\n",
       "      <td>NaN</td>\n",
       "      <td>NaN</td>\n",
       "      <td>NaN</td>\n",
       "      <td>NaN</td>\n",
       "      <td>4.0</td>\n",
       "      <td>8.0</td>\n",
       "      <td>4.0</td>\n",
       "      <td>2.0</td>\n",
       "      <td>2.0</td>\n",
       "      <td>12.0</td>\n",
       "      <td>NaN</td>\n",
       "      <td>NaN</td>\n",
       "      <td>NaN</td>\n",
       "      <td>22.0</td>\n",
       "      <td>50.0</td>\n",
       "      <td>1.0</td>\n",
       "      <td>23.0</td>\n",
       "      <td>30.0</td>\n",
       "      <td>1.0</td>\n",
       "      <td>40.0</td>\n",
       "      <td>12.0</td>\n",
       "      <td>2.0</td>\n",
       "      <td>NaN</td>\n",
       "      <td>NaN</td>\n",
       "      <td>NaN</td>\n",
       "      <td>NaN</td>\n",
       "      <td>NaN</td>\n",
       "      <td>NaN</td>\n",
       "      <td>4557.62</td>\n",
       "      <td>5</td>\n",
       "    </tr>\n",
       "    <tr>\n",
       "      <th>...</th>\n",
       "      <td>...</td>\n",
       "      <td>...</td>\n",
       "      <td>...</td>\n",
       "      <td>...</td>\n",
       "      <td>...</td>\n",
       "      <td>...</td>\n",
       "      <td>...</td>\n",
       "      <td>...</td>\n",
       "      <td>...</td>\n",
       "      <td>...</td>\n",
       "      <td>...</td>\n",
       "      <td>...</td>\n",
       "      <td>...</td>\n",
       "      <td>...</td>\n",
       "      <td>...</td>\n",
       "      <td>...</td>\n",
       "      <td>...</td>\n",
       "      <td>...</td>\n",
       "      <td>...</td>\n",
       "      <td>...</td>\n",
       "      <td>...</td>\n",
       "      <td>...</td>\n",
       "      <td>...</td>\n",
       "      <td>...</td>\n",
       "      <td>...</td>\n",
       "      <td>...</td>\n",
       "      <td>...</td>\n",
       "      <td>...</td>\n",
       "      <td>...</td>\n",
       "      <td>...</td>\n",
       "      <td>...</td>\n",
       "      <td>...</td>\n",
       "      <td>...</td>\n",
       "      <td>...</td>\n",
       "      <td>...</td>\n",
       "      <td>...</td>\n",
       "      <td>...</td>\n",
       "      <td>...</td>\n",
       "      <td>...</td>\n",
       "      <td>...</td>\n",
       "      <td>...</td>\n",
       "      <td>...</td>\n",
       "      <td>...</td>\n",
       "      <td>...</td>\n",
       "      <td>...</td>\n",
       "      <td>...</td>\n",
       "      <td>...</td>\n",
       "      <td>...</td>\n",
       "      <td>...</td>\n",
       "      <td>...</td>\n",
       "      <td>...</td>\n",
       "      <td>...</td>\n",
       "      <td>...</td>\n",
       "      <td>...</td>\n",
       "      <td>...</td>\n",
       "      <td>...</td>\n",
       "      <td>...</td>\n",
       "      <td>...</td>\n",
       "      <td>...</td>\n",
       "      <td>...</td>\n",
       "      <td>...</td>\n",
       "      <td>...</td>\n",
       "      <td>...</td>\n",
       "      <td>...</td>\n",
       "      <td>...</td>\n",
       "      <td>...</td>\n",
       "      <td>...</td>\n",
       "      <td>...</td>\n",
       "      <td>...</td>\n",
       "      <td>...</td>\n",
       "      <td>...</td>\n",
       "      <td>...</td>\n",
       "      <td>...</td>\n",
       "      <td>...</td>\n",
       "      <td>...</td>\n",
       "      <td>...</td>\n",
       "      <td>...</td>\n",
       "      <td>...</td>\n",
       "      <td>...</td>\n",
       "      <td>...</td>\n",
       "      <td>...</td>\n",
       "      <td>...</td>\n",
       "      <td>...</td>\n",
       "      <td>...</td>\n",
       "      <td>...</td>\n",
       "      <td>...</td>\n",
       "      <td>...</td>\n",
       "      <td>...</td>\n",
       "      <td>...</td>\n",
       "      <td>...</td>\n",
       "      <td>...</td>\n",
       "      <td>...</td>\n",
       "      <td>...</td>\n",
       "      <td>...</td>\n",
       "      <td>...</td>\n",
       "      <td>...</td>\n",
       "      <td>...</td>\n",
       "      <td>...</td>\n",
       "      <td>...</td>\n",
       "      <td>...</td>\n",
       "      <td>...</td>\n",
       "      <td>...</td>\n",
       "      <td>...</td>\n",
       "      <td>...</td>\n",
       "      <td>...</td>\n",
       "      <td>...</td>\n",
       "      <td>...</td>\n",
       "      <td>...</td>\n",
       "      <td>...</td>\n",
       "      <td>...</td>\n",
       "      <td>...</td>\n",
       "      <td>...</td>\n",
       "      <td>...</td>\n",
       "      <td>...</td>\n",
       "      <td>...</td>\n",
       "      <td>...</td>\n",
       "      <td>...</td>\n",
       "      <td>...</td>\n",
       "      <td>...</td>\n",
       "      <td>...</td>\n",
       "      <td>...</td>\n",
       "      <td>...</td>\n",
       "      <td>...</td>\n",
       "      <td>...</td>\n",
       "      <td>...</td>\n",
       "      <td>...</td>\n",
       "      <td>...</td>\n",
       "      <td>...</td>\n",
       "    </tr>\n",
       "    <tr>\n",
       "      <th>183087</th>\n",
       "      <td>517</td>\n",
       "      <td>25</td>\n",
       "      <td>294618</td>\n",
       "      <td>7410518</td>\n",
       "      <td>5171418</td>\n",
       "      <td>0</td>\n",
       "      <td>85.531250</td>\n",
       "      <td>1418</td>\n",
       "      <td>1</td>\n",
       "      <td>15092018</td>\n",
       "      <td>1</td>\n",
       "      <td>1</td>\n",
       "      <td>1</td>\n",
       "      <td>4</td>\n",
       "      <td>1</td>\n",
       "      <td>51714181</td>\n",
       "      <td>0</td>\n",
       "      <td>85.531250</td>\n",
       "      <td>1</td>\n",
       "      <td>4</td>\n",
       "      <td>2</td>\n",
       "      <td>1.0</td>\n",
       "      <td>0.0</td>\n",
       "      <td>0.0</td>\n",
       "      <td>1.0</td>\n",
       "      <td>0.0</td>\n",
       "      <td>1.0</td>\n",
       "      <td>0.0</td>\n",
       "      <td>0.0</td>\n",
       "      <td>1.0</td>\n",
       "      <td>1.0</td>\n",
       "      <td>1.0</td>\n",
       "      <td>0.0</td>\n",
       "      <td>0.0</td>\n",
       "      <td>1.0</td>\n",
       "      <td>1</td>\n",
       "      <td>4.0</td>\n",
       "      <td>26.0</td>\n",
       "      <td>NaN</td>\n",
       "      <td>NaN</td>\n",
       "      <td>NaN</td>\n",
       "      <td>3000.00</td>\n",
       "      <td>1</td>\n",
       "      <td>5171418104</td>\n",
       "      <td>0</td>\n",
       "      <td>78.835332</td>\n",
       "      <td>4</td>\n",
       "      <td>3</td>\n",
       "      <td>11</td>\n",
       "      <td>1</td>\n",
       "      <td>3</td>\n",
       "      <td>2</td>\n",
       "      <td>8</td>\n",
       "      <td>2</td>\n",
       "      <td>0.0</td>\n",
       "      <td>517.0</td>\n",
       "      <td>25.0</td>\n",
       "      <td>294735.0</td>\n",
       "      <td>7410561.0</td>\n",
       "      <td>1.0</td>\n",
       "      <td>NaN</td>\n",
       "      <td>NaN</td>\n",
       "      <td>NaN</td>\n",
       "      <td>NaN</td>\n",
       "      <td>NaN</td>\n",
       "      <td>NaN</td>\n",
       "      <td>NaN</td>\n",
       "      <td>NaN</td>\n",
       "      <td>NaN</td>\n",
       "      <td>NaN</td>\n",
       "      <td>NaN</td>\n",
       "      <td>NaN</td>\n",
       "      <td>NaN</td>\n",
       "      <td>NaN</td>\n",
       "      <td>NaN</td>\n",
       "      <td>NaN</td>\n",
       "      <td>NaN</td>\n",
       "      <td>NaN</td>\n",
       "      <td>2.0</td>\n",
       "      <td>89.330849</td>\n",
       "      <td>6.0</td>\n",
       "      <td>2</td>\n",
       "      <td>517.0</td>\n",
       "      <td>25.0</td>\n",
       "      <td>294735.0</td>\n",
       "      <td>7410561.0</td>\n",
       "      <td>517.0</td>\n",
       "      <td>25.0</td>\n",
       "      <td>294618.0</td>\n",
       "      <td>7410518.0</td>\n",
       "      <td>NaN</td>\n",
       "      <td>NaN</td>\n",
       "      <td>NaN</td>\n",
       "      <td>NaN</td>\n",
       "      <td>NaN</td>\n",
       "      <td>NaN</td>\n",
       "      <td>NaN</td>\n",
       "      <td>NaN</td>\n",
       "      <td>NaN</td>\n",
       "      <td>NaN</td>\n",
       "      <td>NaN</td>\n",
       "      <td>NaN</td>\n",
       "      <td>4.0</td>\n",
       "      <td>8.0</td>\n",
       "      <td>4.0</td>\n",
       "      <td>2.0</td>\n",
       "      <td>2.0</td>\n",
       "      <td>16.0</td>\n",
       "      <td>NaN</td>\n",
       "      <td>NaN</td>\n",
       "      <td>NaN</td>\n",
       "      <td>12.0</td>\n",
       "      <td>20.0</td>\n",
       "      <td>NaN</td>\n",
       "      <td>12.0</td>\n",
       "      <td>50.0</td>\n",
       "      <td>NaN</td>\n",
       "      <td>30.0</td>\n",
       "      <td>16.0</td>\n",
       "      <td>3.0</td>\n",
       "      <td>NaN</td>\n",
       "      <td>NaN</td>\n",
       "      <td>NaN</td>\n",
       "      <td>1.0</td>\n",
       "      <td>NaN</td>\n",
       "      <td>NaN</td>\n",
       "      <td>124.65</td>\n",
       "      <td>183088</td>\n",
       "    </tr>\n",
       "    <tr>\n",
       "      <th>183088</th>\n",
       "      <td>517</td>\n",
       "      <td>25</td>\n",
       "      <td>295243</td>\n",
       "      <td>7411456</td>\n",
       "      <td>5171599</td>\n",
       "      <td>1</td>\n",
       "      <td>52.500000</td>\n",
       "      <td>1599</td>\n",
       "      <td>1</td>\n",
       "      <td>15092018</td>\n",
       "      <td>1</td>\n",
       "      <td>1</td>\n",
       "      <td>1</td>\n",
       "      <td>2</td>\n",
       "      <td>1</td>\n",
       "      <td>51715991</td>\n",
       "      <td>1</td>\n",
       "      <td>52.500000</td>\n",
       "      <td>1</td>\n",
       "      <td>2</td>\n",
       "      <td>2</td>\n",
       "      <td>2.0</td>\n",
       "      <td>0.0</td>\n",
       "      <td>1.0</td>\n",
       "      <td>1.0</td>\n",
       "      <td>0.0</td>\n",
       "      <td>1.0</td>\n",
       "      <td>0.0</td>\n",
       "      <td>0.0</td>\n",
       "      <td>1.0</td>\n",
       "      <td>1.0</td>\n",
       "      <td>0.0</td>\n",
       "      <td>0.0</td>\n",
       "      <td>0.0</td>\n",
       "      <td>1.0</td>\n",
       "      <td>1</td>\n",
       "      <td>3.0</td>\n",
       "      <td>31.0</td>\n",
       "      <td>1983.0</td>\n",
       "      <td>NaN</td>\n",
       "      <td>NaN</td>\n",
       "      <td>3778.19</td>\n",
       "      <td>3</td>\n",
       "      <td>5171599101</td>\n",
       "      <td>1</td>\n",
       "      <td>49.023395</td>\n",
       "      <td>1</td>\n",
       "      <td>1</td>\n",
       "      <td>37</td>\n",
       "      <td>2</td>\n",
       "      <td>1</td>\n",
       "      <td>5</td>\n",
       "      <td>1</td>\n",
       "      <td>1</td>\n",
       "      <td>950.0</td>\n",
       "      <td>NaN</td>\n",
       "      <td>NaN</td>\n",
       "      <td>NaN</td>\n",
       "      <td>NaN</td>\n",
       "      <td>NaN</td>\n",
       "      <td>517.0</td>\n",
       "      <td>25.0</td>\n",
       "      <td>295327.0</td>\n",
       "      <td>7410920.0</td>\n",
       "      <td>2.0</td>\n",
       "      <td>2.0</td>\n",
       "      <td>2.0</td>\n",
       "      <td>11.0</td>\n",
       "      <td>3.0</td>\n",
       "      <td>NaN</td>\n",
       "      <td>NaN</td>\n",
       "      <td>NaN</td>\n",
       "      <td>NaN</td>\n",
       "      <td>NaN</td>\n",
       "      <td>NaN</td>\n",
       "      <td>NaN</td>\n",
       "      <td>NaN</td>\n",
       "      <td>NaN</td>\n",
       "      <td>1.0</td>\n",
       "      <td>55.549985</td>\n",
       "      <td>6.0</td>\n",
       "      <td>2</td>\n",
       "      <td>517.0</td>\n",
       "      <td>25.0</td>\n",
       "      <td>295243.0</td>\n",
       "      <td>7411456.0</td>\n",
       "      <td>517.0</td>\n",
       "      <td>25.0</td>\n",
       "      <td>295327.0</td>\n",
       "      <td>7410920.0</td>\n",
       "      <td>NaN</td>\n",
       "      <td>NaN</td>\n",
       "      <td>NaN</td>\n",
       "      <td>NaN</td>\n",
       "      <td>NaN</td>\n",
       "      <td>NaN</td>\n",
       "      <td>NaN</td>\n",
       "      <td>NaN</td>\n",
       "      <td>NaN</td>\n",
       "      <td>NaN</td>\n",
       "      <td>NaN</td>\n",
       "      <td>NaN</td>\n",
       "      <td>8.0</td>\n",
       "      <td>3.0</td>\n",
       "      <td>3.0</td>\n",
       "      <td>2.0</td>\n",
       "      <td>2.0</td>\n",
       "      <td>16.0</td>\n",
       "      <td>NaN</td>\n",
       "      <td>NaN</td>\n",
       "      <td>NaN</td>\n",
       "      <td>7.0</td>\n",
       "      <td>50.0</td>\n",
       "      <td>NaN</td>\n",
       "      <td>8.0</td>\n",
       "      <td>0.0</td>\n",
       "      <td>NaN</td>\n",
       "      <td>10.0</td>\n",
       "      <td>16.0</td>\n",
       "      <td>3.0</td>\n",
       "      <td>NaN</td>\n",
       "      <td>NaN</td>\n",
       "      <td>NaN</td>\n",
       "      <td>1.0</td>\n",
       "      <td>NaN</td>\n",
       "      <td>NaN</td>\n",
       "      <td>542.54</td>\n",
       "      <td>183089</td>\n",
       "    </tr>\n",
       "    <tr>\n",
       "      <th>183089</th>\n",
       "      <td>517</td>\n",
       "      <td>25</td>\n",
       "      <td>295243</td>\n",
       "      <td>7411456</td>\n",
       "      <td>5171599</td>\n",
       "      <td>0</td>\n",
       "      <td>52.500000</td>\n",
       "      <td>1599</td>\n",
       "      <td>1</td>\n",
       "      <td>15092018</td>\n",
       "      <td>1</td>\n",
       "      <td>1</td>\n",
       "      <td>1</td>\n",
       "      <td>2</td>\n",
       "      <td>1</td>\n",
       "      <td>51715991</td>\n",
       "      <td>0</td>\n",
       "      <td>52.500000</td>\n",
       "      <td>1</td>\n",
       "      <td>2</td>\n",
       "      <td>2</td>\n",
       "      <td>2.0</td>\n",
       "      <td>0.0</td>\n",
       "      <td>1.0</td>\n",
       "      <td>1.0</td>\n",
       "      <td>0.0</td>\n",
       "      <td>1.0</td>\n",
       "      <td>0.0</td>\n",
       "      <td>0.0</td>\n",
       "      <td>1.0</td>\n",
       "      <td>1.0</td>\n",
       "      <td>0.0</td>\n",
       "      <td>0.0</td>\n",
       "      <td>0.0</td>\n",
       "      <td>1.0</td>\n",
       "      <td>1</td>\n",
       "      <td>3.0</td>\n",
       "      <td>31.0</td>\n",
       "      <td>1983.0</td>\n",
       "      <td>NaN</td>\n",
       "      <td>NaN</td>\n",
       "      <td>3778.19</td>\n",
       "      <td>3</td>\n",
       "      <td>5171599101</td>\n",
       "      <td>0</td>\n",
       "      <td>49.023395</td>\n",
       "      <td>1</td>\n",
       "      <td>1</td>\n",
       "      <td>37</td>\n",
       "      <td>2</td>\n",
       "      <td>1</td>\n",
       "      <td>5</td>\n",
       "      <td>1</td>\n",
       "      <td>1</td>\n",
       "      <td>950.0</td>\n",
       "      <td>NaN</td>\n",
       "      <td>NaN</td>\n",
       "      <td>NaN</td>\n",
       "      <td>NaN</td>\n",
       "      <td>NaN</td>\n",
       "      <td>517.0</td>\n",
       "      <td>25.0</td>\n",
       "      <td>295327.0</td>\n",
       "      <td>7410920.0</td>\n",
       "      <td>2.0</td>\n",
       "      <td>2.0</td>\n",
       "      <td>2.0</td>\n",
       "      <td>11.0</td>\n",
       "      <td>3.0</td>\n",
       "      <td>NaN</td>\n",
       "      <td>NaN</td>\n",
       "      <td>NaN</td>\n",
       "      <td>NaN</td>\n",
       "      <td>NaN</td>\n",
       "      <td>NaN</td>\n",
       "      <td>NaN</td>\n",
       "      <td>NaN</td>\n",
       "      <td>NaN</td>\n",
       "      <td>2.0</td>\n",
       "      <td>55.549985</td>\n",
       "      <td>6.0</td>\n",
       "      <td>2</td>\n",
       "      <td>517.0</td>\n",
       "      <td>25.0</td>\n",
       "      <td>295327.0</td>\n",
       "      <td>7410920.0</td>\n",
       "      <td>517.0</td>\n",
       "      <td>25.0</td>\n",
       "      <td>295243.0</td>\n",
       "      <td>7411456.0</td>\n",
       "      <td>NaN</td>\n",
       "      <td>NaN</td>\n",
       "      <td>NaN</td>\n",
       "      <td>NaN</td>\n",
       "      <td>NaN</td>\n",
       "      <td>NaN</td>\n",
       "      <td>NaN</td>\n",
       "      <td>NaN</td>\n",
       "      <td>NaN</td>\n",
       "      <td>NaN</td>\n",
       "      <td>NaN</td>\n",
       "      <td>NaN</td>\n",
       "      <td>3.0</td>\n",
       "      <td>8.0</td>\n",
       "      <td>3.0</td>\n",
       "      <td>2.0</td>\n",
       "      <td>2.0</td>\n",
       "      <td>16.0</td>\n",
       "      <td>NaN</td>\n",
       "      <td>NaN</td>\n",
       "      <td>NaN</td>\n",
       "      <td>17.0</td>\n",
       "      <td>0.0</td>\n",
       "      <td>NaN</td>\n",
       "      <td>17.0</td>\n",
       "      <td>10.0</td>\n",
       "      <td>NaN</td>\n",
       "      <td>10.0</td>\n",
       "      <td>16.0</td>\n",
       "      <td>3.0</td>\n",
       "      <td>NaN</td>\n",
       "      <td>NaN</td>\n",
       "      <td>NaN</td>\n",
       "      <td>1.0</td>\n",
       "      <td>NaN</td>\n",
       "      <td>NaN</td>\n",
       "      <td>542.54</td>\n",
       "      <td>183090</td>\n",
       "    </tr>\n",
       "    <tr>\n",
       "      <th>183090</th>\n",
       "      <td>517</td>\n",
       "      <td>25</td>\n",
       "      <td>295243</td>\n",
       "      <td>7411456</td>\n",
       "      <td>5171599</td>\n",
       "      <td>0</td>\n",
       "      <td>52.500000</td>\n",
       "      <td>1599</td>\n",
       "      <td>1</td>\n",
       "      <td>15092018</td>\n",
       "      <td>1</td>\n",
       "      <td>1</td>\n",
       "      <td>1</td>\n",
       "      <td>2</td>\n",
       "      <td>1</td>\n",
       "      <td>51715991</td>\n",
       "      <td>0</td>\n",
       "      <td>52.500000</td>\n",
       "      <td>1</td>\n",
       "      <td>2</td>\n",
       "      <td>2</td>\n",
       "      <td>2.0</td>\n",
       "      <td>0.0</td>\n",
       "      <td>1.0</td>\n",
       "      <td>1.0</td>\n",
       "      <td>0.0</td>\n",
       "      <td>1.0</td>\n",
       "      <td>0.0</td>\n",
       "      <td>0.0</td>\n",
       "      <td>1.0</td>\n",
       "      <td>1.0</td>\n",
       "      <td>0.0</td>\n",
       "      <td>0.0</td>\n",
       "      <td>0.0</td>\n",
       "      <td>1.0</td>\n",
       "      <td>1</td>\n",
       "      <td>3.0</td>\n",
       "      <td>31.0</td>\n",
       "      <td>1983.0</td>\n",
       "      <td>NaN</td>\n",
       "      <td>NaN</td>\n",
       "      <td>3778.19</td>\n",
       "      <td>3</td>\n",
       "      <td>5171599102</td>\n",
       "      <td>1</td>\n",
       "      <td>49.023395</td>\n",
       "      <td>2</td>\n",
       "      <td>2</td>\n",
       "      <td>35</td>\n",
       "      <td>1</td>\n",
       "      <td>1</td>\n",
       "      <td>5</td>\n",
       "      <td>1</td>\n",
       "      <td>3</td>\n",
       "      <td>NaN</td>\n",
       "      <td>NaN</td>\n",
       "      <td>NaN</td>\n",
       "      <td>NaN</td>\n",
       "      <td>NaN</td>\n",
       "      <td>NaN</td>\n",
       "      <td>517.0</td>\n",
       "      <td>25.0</td>\n",
       "      <td>295415.0</td>\n",
       "      <td>7410915.0</td>\n",
       "      <td>1.0</td>\n",
       "      <td>2.0</td>\n",
       "      <td>8.0</td>\n",
       "      <td>3.0</td>\n",
       "      <td>6.0</td>\n",
       "      <td>NaN</td>\n",
       "      <td>NaN</td>\n",
       "      <td>NaN</td>\n",
       "      <td>NaN</td>\n",
       "      <td>NaN</td>\n",
       "      <td>NaN</td>\n",
       "      <td>NaN</td>\n",
       "      <td>NaN</td>\n",
       "      <td>NaN</td>\n",
       "      <td>1.0</td>\n",
       "      <td>55.549985</td>\n",
       "      <td>6.0</td>\n",
       "      <td>2</td>\n",
       "      <td>517.0</td>\n",
       "      <td>25.0</td>\n",
       "      <td>295243.0</td>\n",
       "      <td>7411456.0</td>\n",
       "      <td>517.0</td>\n",
       "      <td>25.0</td>\n",
       "      <td>295415.0</td>\n",
       "      <td>7410915.0</td>\n",
       "      <td>NaN</td>\n",
       "      <td>NaN</td>\n",
       "      <td>NaN</td>\n",
       "      <td>NaN</td>\n",
       "      <td>NaN</td>\n",
       "      <td>NaN</td>\n",
       "      <td>NaN</td>\n",
       "      <td>NaN</td>\n",
       "      <td>NaN</td>\n",
       "      <td>NaN</td>\n",
       "      <td>NaN</td>\n",
       "      <td>NaN</td>\n",
       "      <td>8.0</td>\n",
       "      <td>1.0</td>\n",
       "      <td>1.0</td>\n",
       "      <td>2.0</td>\n",
       "      <td>2.0</td>\n",
       "      <td>16.0</td>\n",
       "      <td>NaN</td>\n",
       "      <td>NaN</td>\n",
       "      <td>NaN</td>\n",
       "      <td>10.0</td>\n",
       "      <td>0.0</td>\n",
       "      <td>NaN</td>\n",
       "      <td>10.0</td>\n",
       "      <td>5.0</td>\n",
       "      <td>NaN</td>\n",
       "      <td>5.0</td>\n",
       "      <td>16.0</td>\n",
       "      <td>3.0</td>\n",
       "      <td>NaN</td>\n",
       "      <td>NaN</td>\n",
       "      <td>NaN</td>\n",
       "      <td>1.0</td>\n",
       "      <td>NaN</td>\n",
       "      <td>NaN</td>\n",
       "      <td>567.68</td>\n",
       "      <td>183091</td>\n",
       "    </tr>\n",
       "    <tr>\n",
       "      <th>183091</th>\n",
       "      <td>517</td>\n",
       "      <td>25</td>\n",
       "      <td>295243</td>\n",
       "      <td>7411456</td>\n",
       "      <td>5171599</td>\n",
       "      <td>0</td>\n",
       "      <td>52.500000</td>\n",
       "      <td>1599</td>\n",
       "      <td>1</td>\n",
       "      <td>15092018</td>\n",
       "      <td>1</td>\n",
       "      <td>1</td>\n",
       "      <td>1</td>\n",
       "      <td>2</td>\n",
       "      <td>1</td>\n",
       "      <td>51715991</td>\n",
       "      <td>0</td>\n",
       "      <td>52.500000</td>\n",
       "      <td>1</td>\n",
       "      <td>2</td>\n",
       "      <td>2</td>\n",
       "      <td>2.0</td>\n",
       "      <td>0.0</td>\n",
       "      <td>1.0</td>\n",
       "      <td>1.0</td>\n",
       "      <td>0.0</td>\n",
       "      <td>1.0</td>\n",
       "      <td>0.0</td>\n",
       "      <td>0.0</td>\n",
       "      <td>1.0</td>\n",
       "      <td>1.0</td>\n",
       "      <td>0.0</td>\n",
       "      <td>0.0</td>\n",
       "      <td>0.0</td>\n",
       "      <td>1.0</td>\n",
       "      <td>1</td>\n",
       "      <td>3.0</td>\n",
       "      <td>31.0</td>\n",
       "      <td>1983.0</td>\n",
       "      <td>NaN</td>\n",
       "      <td>NaN</td>\n",
       "      <td>3778.19</td>\n",
       "      <td>3</td>\n",
       "      <td>5171599102</td>\n",
       "      <td>0</td>\n",
       "      <td>49.023395</td>\n",
       "      <td>2</td>\n",
       "      <td>2</td>\n",
       "      <td>35</td>\n",
       "      <td>1</td>\n",
       "      <td>1</td>\n",
       "      <td>5</td>\n",
       "      <td>1</td>\n",
       "      <td>3</td>\n",
       "      <td>NaN</td>\n",
       "      <td>NaN</td>\n",
       "      <td>NaN</td>\n",
       "      <td>NaN</td>\n",
       "      <td>NaN</td>\n",
       "      <td>NaN</td>\n",
       "      <td>517.0</td>\n",
       "      <td>25.0</td>\n",
       "      <td>295415.0</td>\n",
       "      <td>7410915.0</td>\n",
       "      <td>1.0</td>\n",
       "      <td>2.0</td>\n",
       "      <td>8.0</td>\n",
       "      <td>3.0</td>\n",
       "      <td>6.0</td>\n",
       "      <td>NaN</td>\n",
       "      <td>NaN</td>\n",
       "      <td>NaN</td>\n",
       "      <td>NaN</td>\n",
       "      <td>NaN</td>\n",
       "      <td>NaN</td>\n",
       "      <td>NaN</td>\n",
       "      <td>NaN</td>\n",
       "      <td>NaN</td>\n",
       "      <td>2.0</td>\n",
       "      <td>55.549985</td>\n",
       "      <td>6.0</td>\n",
       "      <td>2</td>\n",
       "      <td>517.0</td>\n",
       "      <td>25.0</td>\n",
       "      <td>295415.0</td>\n",
       "      <td>7410915.0</td>\n",
       "      <td>517.0</td>\n",
       "      <td>25.0</td>\n",
       "      <td>295243.0</td>\n",
       "      <td>7411456.0</td>\n",
       "      <td>NaN</td>\n",
       "      <td>NaN</td>\n",
       "      <td>NaN</td>\n",
       "      <td>NaN</td>\n",
       "      <td>NaN</td>\n",
       "      <td>NaN</td>\n",
       "      <td>NaN</td>\n",
       "      <td>NaN</td>\n",
       "      <td>NaN</td>\n",
       "      <td>NaN</td>\n",
       "      <td>NaN</td>\n",
       "      <td>NaN</td>\n",
       "      <td>1.0</td>\n",
       "      <td>8.0</td>\n",
       "      <td>1.0</td>\n",
       "      <td>2.0</td>\n",
       "      <td>2.0</td>\n",
       "      <td>16.0</td>\n",
       "      <td>NaN</td>\n",
       "      <td>NaN</td>\n",
       "      <td>NaN</td>\n",
       "      <td>16.0</td>\n",
       "      <td>0.0</td>\n",
       "      <td>NaN</td>\n",
       "      <td>16.0</td>\n",
       "      <td>5.0</td>\n",
       "      <td>NaN</td>\n",
       "      <td>5.0</td>\n",
       "      <td>16.0</td>\n",
       "      <td>3.0</td>\n",
       "      <td>NaN</td>\n",
       "      <td>NaN</td>\n",
       "      <td>NaN</td>\n",
       "      <td>1.0</td>\n",
       "      <td>NaN</td>\n",
       "      <td>NaN</td>\n",
       "      <td>567.68</td>\n",
       "      <td>183092</td>\n",
       "    </tr>\n",
       "  </tbody>\n",
       "</table>\n",
       "<p>183092 rows × 128 columns</p>\n",
       "</div>"
      ],
      "text/plain": [
       "        ZONA  MUNI_DOM  CO_DOM_X  CO_DOM_Y   ID_DOM  F_DOM     FE_DOM   DOM  \\\n",
       "0          1        36    333743   7394463    10001      1  15.416667     1   \n",
       "1          1        36    333743   7394463    10001      0  15.416667     1   \n",
       "2          1        36    333743   7394463    10001      0  15.416667     1   \n",
       "3          1        36    333743   7394463    10001      0  15.416667     1   \n",
       "4          1        36    333743   7394463    10001      0  15.416667     1   \n",
       "...      ...       ...       ...       ...      ...    ...        ...   ...   \n",
       "183087   517        25    294618   7410518  5171418      0  85.531250  1418   \n",
       "183088   517        25    295243   7411456  5171599      1  52.500000  1599   \n",
       "183089   517        25    295243   7411456  5171599      0  52.500000  1599   \n",
       "183090   517        25    295243   7411456  5171599      0  52.500000  1599   \n",
       "183091   517        25    295243   7411456  5171599      0  52.500000  1599   \n",
       "\n",
       "        CD_ENTRE      DATA  TIPO_DOM  AGUA  RUA_PAVI  NO_MORAD  TOT_FAM  \\\n",
       "0              1   6092017         1     1         1         2        1   \n",
       "1              1   6092017         1     1         1         2        1   \n",
       "2              1   6092017         1     1         1         2        1   \n",
       "3              1   6092017         1     1         1         2        1   \n",
       "4              1   6092017         1     1         1         2        1   \n",
       "...          ...       ...       ...   ...       ...       ...      ...   \n",
       "183087         1  15092018         1     1         1         4        1   \n",
       "183088         1  15092018         1     1         1         2        1   \n",
       "183089         1  15092018         1     1         1         2        1   \n",
       "183090         1  15092018         1     1         1         2        1   \n",
       "183091         1  15092018         1     1         1         2        1   \n",
       "\n",
       "          ID_FAM  F_FAM     FE_FAM  FAMILIA  NO_MORAF  CONDMORA  QT_BANHO  \\\n",
       "0         100011      1  15.416667        1         2         2       1.0   \n",
       "1         100011      0  15.416667        1         2         2       1.0   \n",
       "2         100011      0  15.416667        1         2         2       1.0   \n",
       "3         100011      0  15.416667        1         2         2       1.0   \n",
       "4         100011      0  15.416667        1         2         2       1.0   \n",
       "...          ...    ...        ...      ...       ...       ...       ...   \n",
       "183087  51714181      0  85.531250        1         4         2       1.0   \n",
       "183088  51715991      1  52.500000        1         2         2       2.0   \n",
       "183089  51715991      0  52.500000        1         2         2       2.0   \n",
       "183090  51715991      0  52.500000        1         2         2       2.0   \n",
       "183091  51715991      0  52.500000        1         2         2       2.0   \n",
       "\n",
       "        QT_EMPRE  QT_AUTO  QT_MICRO  QT_LAVALOU  QT_GEL1  QT_GEL2  QT_FREEZ  \\\n",
       "0            0.0      0.0       1.0         0.0      0.0      1.0       1.0   \n",
       "1            0.0      0.0       1.0         0.0      0.0      1.0       1.0   \n",
       "2            0.0      0.0       1.0         0.0      0.0      1.0       1.0   \n",
       "3            0.0      0.0       1.0         0.0      0.0      1.0       1.0   \n",
       "4            0.0      0.0       1.0         0.0      0.0      1.0       1.0   \n",
       "...          ...      ...       ...         ...      ...      ...       ...   \n",
       "183087       0.0      0.0       1.0         0.0      1.0      0.0       0.0   \n",
       "183088       0.0      1.0       1.0         0.0      1.0      0.0       0.0   \n",
       "183089       0.0      1.0       1.0         0.0      1.0      0.0       0.0   \n",
       "183090       0.0      1.0       1.0         0.0      1.0      0.0       0.0   \n",
       "183091       0.0      1.0       1.0         0.0      1.0      0.0       0.0   \n",
       "\n",
       "        QT_MLAVA  QT_DVD  QT_MICROON  QT_MOTO  QT_SECAROU  QT_BICICLE  \\\n",
       "0            1.0     1.0         1.0      0.0         0.0         0.0   \n",
       "1            1.0     1.0         1.0      0.0         0.0         0.0   \n",
       "2            1.0     1.0         1.0      0.0         0.0         0.0   \n",
       "3            1.0     1.0         1.0      0.0         0.0         0.0   \n",
       "4            1.0     1.0         1.0      0.0         0.0         0.0   \n",
       "...          ...     ...         ...      ...         ...         ...   \n",
       "183087       1.0     1.0         1.0      0.0         0.0         1.0   \n",
       "183088       1.0     1.0         0.0      0.0         0.0         1.0   \n",
       "183089       1.0     1.0         0.0      0.0         0.0         1.0   \n",
       "183090       1.0     1.0         0.0      0.0         0.0         1.0   \n",
       "183091       1.0     1.0         0.0      0.0         0.0         1.0   \n",
       "\n",
       "        NAO_DCL_IT  CRITERIOBR  PONTO_BR  ANO_AUTO1  ANO_AUTO2  ANO_AUTO3  \\\n",
       "0                1         4.0      25.0        NaN        NaN        NaN   \n",
       "1                1         4.0      25.0        NaN        NaN        NaN   \n",
       "2                1         4.0      25.0        NaN        NaN        NaN   \n",
       "3                1         4.0      25.0        NaN        NaN        NaN   \n",
       "4                1         4.0      25.0        NaN        NaN        NaN   \n",
       "...            ...         ...       ...        ...        ...        ...   \n",
       "183087           1         4.0      26.0        NaN        NaN        NaN   \n",
       "183088           1         3.0      31.0     1983.0        NaN        NaN   \n",
       "183089           1         3.0      31.0     1983.0        NaN        NaN   \n",
       "183090           1         3.0      31.0     1983.0        NaN        NaN   \n",
       "183091           1         3.0      31.0     1983.0        NaN        NaN   \n",
       "\n",
       "        RENDA_FA  CD_RENFA     ID_PESS  F_PESS    FE_PESS  PESSOA  SIT_FAM  \\\n",
       "0        2732.58         3    10001101       1  19.532274       1        1   \n",
       "1        2732.58         3    10001101       0  19.532274       1        1   \n",
       "2        2732.58         3    10001102       1  16.663976       2        3   \n",
       "3        2732.58         3    10001102       0  16.663976       2        3   \n",
       "4        2732.58         3    10001102       0  16.663976       2        3   \n",
       "...          ...       ...         ...     ...        ...     ...      ...   \n",
       "183087   3000.00         1  5171418104       0  78.835332       4        3   \n",
       "183088   3778.19         3  5171599101       1  49.023395       1        1   \n",
       "183089   3778.19         3  5171599101       0  49.023395       1        1   \n",
       "183090   3778.19         3  5171599102       1  49.023395       2        2   \n",
       "183091   3778.19         3  5171599102       0  49.023395       2        2   \n",
       "\n",
       "        IDADE  SEXO  ESTUDA  GRAU_INS  CD_ATIVI  CO_REN_I  VL_REN_I  ZONA_ESC  \\\n",
       "0          59     2       1         3         1         3       NaN       NaN   \n",
       "1          59     2       1         3         1         3       NaN       NaN   \n",
       "2          21     2       5         4         1         3       NaN      84.0   \n",
       "3          21     2       5         4         1         3       NaN      84.0   \n",
       "4          21     2       5         4         1         3       NaN      84.0   \n",
       "...       ...   ...     ...       ...       ...       ...       ...       ...   \n",
       "183087     11     1       3         2         8         2       0.0     517.0   \n",
       "183088     37     2       1         5         1         1     950.0       NaN   \n",
       "183089     37     2       1         5         1         1     950.0       NaN   \n",
       "183090     35     1       1         5         1         3       NaN       NaN   \n",
       "183091     35     1       1         5         1         3       NaN       NaN   \n",
       "\n",
       "        MUNIESC  CO_ESC_X   CO_ESC_Y  TIPO_ESC  ZONATRA1  MUNITRA1  CO_TR1_X  \\\n",
       "0           NaN       NaN        NaN       NaN       3.0      36.0  333104.0   \n",
       "1           NaN       NaN        NaN       NaN       3.0      36.0  333104.0   \n",
       "2          36.0  329431.0  7395939.0       2.0      82.0      36.0  327503.0   \n",
       "3          36.0  329431.0  7395939.0       2.0      82.0      36.0  327503.0   \n",
       "4          36.0  329431.0  7395939.0       2.0      82.0      36.0  327503.0   \n",
       "...         ...       ...        ...       ...       ...       ...       ...   \n",
       "183087     25.0  294735.0  7410561.0       1.0       NaN       NaN       NaN   \n",
       "183088      NaN       NaN        NaN       NaN     517.0      25.0  295327.0   \n",
       "183089      NaN       NaN        NaN       NaN     517.0      25.0  295327.0   \n",
       "183090      NaN       NaN        NaN       NaN     517.0      25.0  295415.0   \n",
       "183091      NaN       NaN        NaN       NaN     517.0      25.0  295415.0   \n",
       "\n",
       "         CO_TR1_Y  TRAB1_RE  TRABEXT1  OCUP1  SETOR1  VINC1  ZONATRA2  \\\n",
       "0       7394476.0       2.0       2.0    4.0    13.0    1.0       NaN   \n",
       "1       7394476.0       2.0       2.0    4.0    13.0    1.0       NaN   \n",
       "2       7392159.0       2.0       2.0    4.0     7.0    2.0       NaN   \n",
       "3       7392159.0       2.0       2.0    4.0     7.0    2.0       NaN   \n",
       "4       7392159.0       2.0       2.0    4.0     7.0    2.0       NaN   \n",
       "...           ...       ...       ...    ...     ...    ...       ...   \n",
       "183087        NaN       NaN       NaN    NaN     NaN    NaN       NaN   \n",
       "183088  7410920.0       2.0       2.0    2.0    11.0    3.0       NaN   \n",
       "183089  7410920.0       2.0       2.0    2.0    11.0    3.0       NaN   \n",
       "183090  7410915.0       1.0       2.0    8.0     3.0    6.0       NaN   \n",
       "183091  7410915.0       1.0       2.0    8.0     3.0    6.0       NaN   \n",
       "\n",
       "        MUNITRA2  CO_TR2_X  CO_TR2_Y  TRAB2_RE  TRABEXT2  OCUP2  SETOR2  \\\n",
       "0            NaN       NaN       NaN       NaN       NaN    NaN     NaN   \n",
       "1            NaN       NaN       NaN       NaN       NaN    NaN     NaN   \n",
       "2            NaN       NaN       NaN       NaN       NaN    NaN     NaN   \n",
       "3            NaN       NaN       NaN       NaN       NaN    NaN     NaN   \n",
       "4            NaN       NaN       NaN       NaN       NaN    NaN     NaN   \n",
       "...          ...       ...       ...       ...       ...    ...     ...   \n",
       "183087       NaN       NaN       NaN       NaN       NaN    NaN     NaN   \n",
       "183088       NaN       NaN       NaN       NaN       NaN    NaN     NaN   \n",
       "183089       NaN       NaN       NaN       NaN       NaN    NaN     NaN   \n",
       "183090       NaN       NaN       NaN       NaN       NaN    NaN     NaN   \n",
       "183091       NaN       NaN       NaN       NaN       NaN    NaN     NaN   \n",
       "\n",
       "        VINC2  N_VIAG     FE_VIA  DIA_SEM  TOT_VIAG  ZONA_O  MUNI_O    CO_O_X  \\\n",
       "0         NaN     1.0  22.132647      3.0         2     1.0    36.0  333743.0   \n",
       "1         NaN     2.0  22.132647      3.0         2     3.0    36.0  333104.0   \n",
       "2         NaN     1.0  18.882487      3.0         3     1.0    36.0  333743.0   \n",
       "3         NaN     2.0  18.882487      3.0         3    82.0    36.0  327503.0   \n",
       "4         NaN     3.0  18.882487      3.0         3    84.0    36.0  329431.0   \n",
       "...       ...     ...        ...      ...       ...     ...     ...       ...   \n",
       "183087    NaN     2.0  89.330849      6.0         2   517.0    25.0  294735.0   \n",
       "183088    NaN     1.0  55.549985      6.0         2   517.0    25.0  295243.0   \n",
       "183089    NaN     2.0  55.549985      6.0         2   517.0    25.0  295327.0   \n",
       "183090    NaN     1.0  55.549985      6.0         2   517.0    25.0  295243.0   \n",
       "183091    NaN     2.0  55.549985      6.0         2   517.0    25.0  295415.0   \n",
       "\n",
       "           CO_O_Y  ZONA_D  MUNI_D    CO_D_X     CO_D_Y  ZONA_T1  MUNI_T1  \\\n",
       "0       7394463.0     3.0    36.0  333104.0  7394476.0      NaN      NaN   \n",
       "1       7394476.0     1.0    36.0  333743.0  7394463.0      NaN      NaN   \n",
       "2       7394463.0    82.0    36.0  327503.0  7392159.0      NaN      NaN   \n",
       "3       7392159.0    84.0    36.0  329431.0  7395939.0     93.0     36.0   \n",
       "4       7395939.0     1.0    36.0  333743.0  7394463.0      NaN      NaN   \n",
       "...           ...     ...     ...       ...        ...      ...      ...   \n",
       "183087  7410561.0   517.0    25.0  294618.0  7410518.0      NaN      NaN   \n",
       "183088  7411456.0   517.0    25.0  295327.0  7410920.0      NaN      NaN   \n",
       "183089  7410920.0   517.0    25.0  295243.0  7411456.0      NaN      NaN   \n",
       "183090  7411456.0   517.0    25.0  295415.0  7410915.0      NaN      NaN   \n",
       "183091  7410915.0   517.0    25.0  295243.0  7411456.0      NaN      NaN   \n",
       "\n",
       "         CO_T1_X    CO_T1_Y  ZONA_T2  MUNI_T2  CO_T2_X  CO_T2_Y  ZONA_T3  \\\n",
       "0            NaN        NaN      NaN      NaN      NaN      NaN      NaN   \n",
       "1            NaN        NaN      NaN      NaN      NaN      NaN      NaN   \n",
       "2            NaN        NaN      NaN      NaN      NaN      NaN      NaN   \n",
       "3       329861.0  7397268.0      NaN      NaN      NaN      NaN      NaN   \n",
       "4            NaN        NaN      NaN      NaN      NaN      NaN      NaN   \n",
       "...          ...        ...      ...      ...      ...      ...      ...   \n",
       "183087       NaN        NaN      NaN      NaN      NaN      NaN      NaN   \n",
       "183088       NaN        NaN      NaN      NaN      NaN      NaN      NaN   \n",
       "183089       NaN        NaN      NaN      NaN      NaN      NaN      NaN   \n",
       "183090       NaN        NaN      NaN      NaN      NaN      NaN      NaN   \n",
       "183091       NaN        NaN      NaN      NaN      NaN      NaN      NaN   \n",
       "\n",
       "        MUNI_T3  CO_T3_X  CO_T3_Y  MOTIVO_O  MOTIVO_D  MOT_SRES  SERVIR_O  \\\n",
       "0           NaN      NaN      NaN       8.0       3.0       3.0       2.0   \n",
       "1           NaN      NaN      NaN       3.0       8.0       3.0       2.0   \n",
       "2           NaN      NaN      NaN       8.0       3.0       3.0       2.0   \n",
       "3           NaN      NaN      NaN       3.0       4.0       4.0       2.0   \n",
       "4           NaN      NaN      NaN       4.0       8.0       4.0       2.0   \n",
       "...         ...      ...      ...       ...       ...       ...       ...   \n",
       "183087      NaN      NaN      NaN       4.0       8.0       4.0       2.0   \n",
       "183088      NaN      NaN      NaN       8.0       3.0       3.0       2.0   \n",
       "183089      NaN      NaN      NaN       3.0       8.0       3.0       2.0   \n",
       "183090      NaN      NaN      NaN       8.0       1.0       1.0       2.0   \n",
       "183091      NaN      NaN      NaN       1.0       8.0       1.0       2.0   \n",
       "\n",
       "        SERVIR_D  MODO1  MODO2  MODO3  MODO4  H_SAIDA  MIN_SAIDA  ANDA_O  \\\n",
       "0            2.0   16.0    NaN    NaN    NaN      5.0       45.0     NaN   \n",
       "1            2.0   16.0    NaN    NaN    NaN     15.0       45.0     NaN   \n",
       "2            2.0    1.0    NaN    NaN    NaN      9.0        0.0    10.0   \n",
       "3            2.0    1.0    4.0    NaN    NaN     17.0        0.0    20.0   \n",
       "4            2.0   12.0    NaN    NaN    NaN     22.0       50.0     1.0   \n",
       "...          ...    ...    ...    ...    ...      ...        ...     ...   \n",
       "183087       2.0   16.0    NaN    NaN    NaN     12.0       20.0     NaN   \n",
       "183088       2.0   16.0    NaN    NaN    NaN      7.0       50.0     NaN   \n",
       "183089       2.0   16.0    NaN    NaN    NaN     17.0        0.0     NaN   \n",
       "183090       2.0   16.0    NaN    NaN    NaN     10.0        0.0     NaN   \n",
       "183091       2.0   16.0    NaN    NaN    NaN     16.0        0.0     NaN   \n",
       "\n",
       "        H_CHEG  MIN_CHEG  ANDA_D  DURACAO  MODOPRIN  TIPVG  PAG_VIAG  \\\n",
       "0          5.0      55.0     NaN     10.0      16.0    3.0       NaN   \n",
       "1         15.0      55.0     NaN     10.0      16.0    3.0       NaN   \n",
       "2          9.0      50.0    20.0     50.0       1.0    1.0       2.0   \n",
       "3         18.0       0.0     1.0     60.0       1.0    1.0       2.0   \n",
       "4         23.0      30.0     1.0     40.0      12.0    2.0       NaN   \n",
       "...        ...       ...     ...      ...       ...    ...       ...   \n",
       "183087    12.0      50.0     NaN     30.0      16.0    3.0       NaN   \n",
       "183088     8.0       0.0     NaN     10.0      16.0    3.0       NaN   \n",
       "183089    17.0      10.0     NaN     10.0      16.0    3.0       NaN   \n",
       "183090    10.0       5.0     NaN      5.0      16.0    3.0       NaN   \n",
       "183091    16.0       5.0     NaN      5.0      16.0    3.0       NaN   \n",
       "\n",
       "        TP_ESAUTO  VL_EST  PE_BICI  VIA_BICI  TP_ESBICI  DISTANCIA  ID_ORDEM  \n",
       "0             NaN     NaN      1.0       NaN        NaN     639.13         1  \n",
       "1             NaN     NaN      1.0       NaN        NaN     639.13         2  \n",
       "2             NaN     NaN      NaN       NaN        NaN    6651.77         3  \n",
       "3             NaN     NaN      NaN       NaN        NaN    4243.30         4  \n",
       "4             NaN     NaN      NaN       NaN        NaN    4557.62         5  \n",
       "...           ...     ...      ...       ...        ...        ...       ...  \n",
       "183087        NaN     NaN      1.0       NaN        NaN     124.65    183088  \n",
       "183088        NaN     NaN      1.0       NaN        NaN     542.54    183089  \n",
       "183089        NaN     NaN      1.0       NaN        NaN     542.54    183090  \n",
       "183090        NaN     NaN      1.0       NaN        NaN     567.68    183091  \n",
       "183091        NaN     NaN      1.0       NaN        NaN     567.68    183092  \n",
       "\n",
       "[183092 rows x 128 columns]"
      ]
     },
     "execution_count": 4,
     "metadata": {},
     "output_type": "execute_result"
    }
   ],
   "source": [
    "data"
   ]
  },
  {
   "attachments": {},
   "cell_type": "markdown",
   "metadata": {},
   "source": [
    "###  Relevant columns\n",
    "\n",
    "- QT_BICICLE\n",
    "- MODO1 (15 é bibleta)\n",
    "- MODO2\n",
    "- MODO3\n",
    "- MODO4\n",
    "- TIPVG\n",
    "1 - Coletivo\n",
    "2 - Individual\n",
    "3 - A pé\n",
    "4 - Bicicleta\n",
    "\n",
    "- VIA_BICI - Se viajou de bicicleta, usou via segregada?\n",
    "\n",
    "1 - Sim\n",
    "2 - Não\n",
    "\n",
    "- TP_ESBICI\tEstacionamento Bicicleta\n",
    "\n",
    "1 - Bicicletário gratuito\n",
    "2 - Bicicletário pago\n",
    "3 - Local privado\n",
    "4 - Rua/Local público\n",
    "5 - Guardador de rua\n",
    "6 - Estação de bicicleta\n",
    "7 - Paraciclo público\n",
    "8 - Outros\n",
    "\n",
    "\n",
    "- PE_BICI\tPor Que Viajou A Pé ou Bicicleta\n",
    "\n",
    "1 - Pequena distância\n",
    "2 - Condução cara\n",
    "3 - Ponto/Estação distante\n",
    "4 - Condução demora para passar\n",
    "5 - Viagem demorada\n",
    "6 - Condução lotada\n",
    "7 - Atividade física\n",
    "8 - Outros motivos\n",
    "\n"
   ]
  },
  {
   "cell_type": "code",
   "execution_count": 5,
   "metadata": {},
   "outputs": [
    {
     "data": {
      "text/plain": [
       "183092"
      ]
     },
     "execution_count": 5,
     "metadata": {},
     "output_type": "execute_result"
    }
   ],
   "source": [
    "len(data)"
   ]
  },
  {
   "cell_type": "code",
   "execution_count": 6,
   "metadata": {},
   "outputs": [
    {
     "data": {
      "text/plain": [
       "array([ 3.,  1.,  2., nan,  4.])"
      ]
     },
     "execution_count": 6,
     "metadata": {},
     "output_type": "execute_result"
    }
   ],
   "source": [
    "data['TIPVG'].unique()"
   ]
  },
  {
   "cell_type": "code",
   "execution_count": 7,
   "metadata": {},
   "outputs": [],
   "source": [
    "bike_trips = data[data['TIPVG'] == 4]"
   ]
  },
  {
   "cell_type": "code",
   "execution_count": 8,
   "metadata": {},
   "outputs": [
    {
     "data": {
      "text/plain": [
       "0.007067485198697923"
      ]
     },
     "execution_count": 8,
     "metadata": {},
     "output_type": "execute_result"
    }
   ],
   "source": [
    "len(bike_trips)/len(data)"
   ]
  },
  {
   "cell_type": "code",
   "execution_count": 9,
   "metadata": {},
   "outputs": [
    {
     "data": {
      "text/plain": [
       "array([1, 2])"
      ]
     },
     "execution_count": 9,
     "metadata": {},
     "output_type": "execute_result"
    }
   ],
   "source": [
    "bike_trips['SEXO'].unique()"
   ]
  },
  {
   "cell_type": "code",
   "execution_count": 10,
   "metadata": {},
   "outputs": [
    {
     "data": {
      "text/plain": [
       "0.14760432766615147"
      ]
     },
     "execution_count": 10,
     "metadata": {},
     "output_type": "execute_result"
    }
   ],
   "source": [
    "len(bike_trips[bike_trips['SEXO'] == 2])/len(bike_trips)"
   ]
  },
  {
   "cell_type": "code",
   "execution_count": 11,
   "metadata": {},
   "outputs": [],
   "source": [
    "nonmotorized_trips = data[(data['TIPVG'] == 4) | (data['TIPVG'] == 3)]"
   ]
  },
  {
   "cell_type": "code",
   "execution_count": 12,
   "metadata": {},
   "outputs": [
    {
     "data": {
      "text/plain": [
       "0.5204219528429376"
      ]
     },
     "execution_count": 12,
     "metadata": {},
     "output_type": "execute_result"
    }
   ],
   "source": [
    "len(nonmotorized_trips[nonmotorized_trips['SEXO'] == 2])/len(nonmotorized_trips)"
   ]
  },
  {
   "cell_type": "code",
   "execution_count": 13,
   "metadata": {},
   "outputs": [],
   "source": [
    "walk_trips = data[data['TIPVG'] == 3]"
   ]
  },
  {
   "cell_type": "code",
   "execution_count": 14,
   "metadata": {},
   "outputs": [
    {
     "data": {
      "text/plain": [
       "0.5304131717924822"
      ]
     },
     "execution_count": 14,
     "metadata": {},
     "output_type": "execute_result"
    }
   ],
   "source": [
    "len(walk_trips[walk_trips['SEXO'] == 2])/len(walk_trips)"
   ]
  },
  {
   "cell_type": "code",
   "execution_count": 15,
   "metadata": {},
   "outputs": [],
   "source": [
    "woman_trips = data[data['SEXO'] == 2]"
   ]
  },
  {
   "cell_type": "code",
   "execution_count": 16,
   "metadata": {},
   "outputs": [
    {
     "data": {
      "text/plain": [
       "0.5129115417385796"
      ]
     },
     "execution_count": 16,
     "metadata": {},
     "output_type": "execute_result"
    }
   ],
   "source": [
    "len(woman_trips)/len(data)"
   ]
  },
  {
   "cell_type": "code",
   "execution_count": 17,
   "metadata": {},
   "outputs": [],
   "source": [
    "bike_trips_woman = woman_trips[woman_trips['TIPVG'] == 4]"
   ]
  },
  {
   "cell_type": "code",
   "execution_count": 18,
   "metadata": {},
   "outputs": [
    {
     "data": {
      "text/plain": [
       "0.0020338622084974975"
      ]
     },
     "execution_count": 18,
     "metadata": {},
     "output_type": "execute_result"
    }
   ],
   "source": [
    "len(bike_trips_woman)/len(woman_trips)"
   ]
  },
  {
   "cell_type": "code",
   "execution_count": 19,
   "metadata": {},
   "outputs": [
    {
     "data": {
      "text/plain": [
       "0.012367966630037452"
      ]
     },
     "execution_count": 19,
     "metadata": {},
     "output_type": "execute_result"
    }
   ],
   "source": [
    "man_trips = data[data['SEXO'] == 1]\n",
    "bike_trips_man = man_trips[man_trips['TIPVG'] == 4]\n",
    "len(bike_trips_man)/len(man_trips)"
   ]
  },
  {
   "cell_type": "code",
   "execution_count": 20,
   "metadata": {},
   "outputs": [],
   "source": [
    "has_bike = data[data['QT_BICICLE'] > 0]"
   ]
  },
  {
   "cell_type": "code",
   "execution_count": 21,
   "metadata": {},
   "outputs": [],
   "source": [
    "not_has_bike = data[data['QT_BICICLE'] == 0]"
   ]
  },
  {
   "cell_type": "code",
   "execution_count": 22,
   "metadata": {},
   "outputs": [
    {
     "data": {
      "text/plain": [
       "0.3576781071810893"
      ]
     },
     "execution_count": 22,
     "metadata": {},
     "output_type": "execute_result"
    }
   ],
   "source": [
    "len(has_bike)/len(data)"
   ]
  },
  {
   "cell_type": "code",
   "execution_count": 23,
   "metadata": {},
   "outputs": [
    {
     "data": {
      "text/plain": [
       "0.6193498350556005"
      ]
     },
     "execution_count": 23,
     "metadata": {},
     "output_type": "execute_result"
    }
   ],
   "source": [
    "len(not_has_bike)/len(data)"
   ]
  },
  {
   "attachments": {},
   "cell_type": "markdown",
   "metadata": {},
   "source": [
    "## Reason - bike trips"
   ]
  },
  {
   "cell_type": "code",
   "execution_count": 24,
   "metadata": {},
   "outputs": [
    {
     "data": {
      "text/plain": [
       "1294"
      ]
     },
     "execution_count": 24,
     "metadata": {},
     "output_type": "execute_result"
    }
   ],
   "source": [
    "bike_trips = data[data['TIPVG'] == 4]\n",
    "len(bike_trips)"
   ]
  },
  {
   "cell_type": "code",
   "execution_count": 25,
   "metadata": {},
   "outputs": [
    {
     "data": {
      "text/plain": [
       "array([ 8.,  4.,  2.,  3.,  7.,  5.,  6., 10.,  1., 11.,  9.])"
      ]
     },
     "execution_count": 25,
     "metadata": {},
     "output_type": "execute_result"
    }
   ],
   "source": [
    "bike_trips['MOTIVO_O'].unique()"
   ]
  },
  {
   "cell_type": "code",
   "execution_count": 26,
   "metadata": {},
   "outputs": [
    {
     "data": {
      "text/plain": [
       "<AxesSubplot:ylabel='MOTIVO_O'>"
      ]
     },
     "execution_count": 26,
     "metadata": {},
     "output_type": "execute_result"
    },
    {
     "data": {
      "image/png": "[encoded data removed]",
      "text/plain": [
       "<Figure size 640x480 with 1 Axes>"
      ]
     },
     "metadata": {},
     "output_type": "display_data"
    }
   ],
   "source": [
    "bike_trips['MOTIVO_O'].value_counts().plot(kind='pie')"
   ]
  },
  {
   "cell_type": "code",
   "execution_count": 27,
   "metadata": {},
   "outputs": [
    {
     "data": {
      "text/plain": [
       "<AxesSubplot:ylabel='MOTIVO_D'>"
      ]
     },
     "execution_count": 27,
     "metadata": {},
     "output_type": "execute_result"
    },
    {
     "data": {
      "image/png": "[encoded data removed]",
      "text/plain": [
       "<Figure size 640x480 with 1 Axes>"
      ]
     },
     "metadata": {},
     "output_type": "display_data"
    }
   ],
   "source": [
    "bike_trips['MOTIVO_D'].value_counts().plot(kind='pie')"
   ]
  },
  {
   "cell_type": "code",
   "execution_count": 28,
   "metadata": {},
   "outputs": [
    {
     "data": {
      "text/plain": [
       "<AxesSubplot:ylabel='MOT_SRES'>"
      ]
     },
     "execution_count": 28,
     "metadata": {},
     "output_type": "execute_result"
    },
    {
     "data": {
      "image/png": "[encoded data removed]",
      "text/plain": [
       "<Figure size 640x480 with 1 Axes>"
      ]
     },
     "metadata": {},
     "output_type": "display_data"
    }
   ],
   "source": [
    "bike_trips['MOT_SRES'].value_counts().plot(kind='pie')"
   ]
  },
  {
   "cell_type": "code",
   "execution_count": 29,
   "metadata": {},
   "outputs": [
    {
     "data": {
      "text/plain": [
       "<AxesSubplot:ylabel='MOT_SRES'>"
      ]
     },
     "execution_count": 29,
     "metadata": {},
     "output_type": "execute_result"
    },
    {
     "data": {
      "image/png": "[encoded data removed]",
      "text/plain": [
       "<Figure size 640x480 with 1 Axes>"
      ]
     },
     "metadata": {},
     "output_type": "display_data"
    }
   ],
   "source": [
    "data['MOT_SRES'].value_counts().plot(kind='pie')"
   ]
  },
  {
   "cell_type": "code",
   "execution_count": 30,
   "metadata": {},
   "outputs": [
    {
     "data": {
      "text/plain": [
       "<AxesSubplot:ylabel='PE_BICI'>"
      ]
     },
     "execution_count": 30,
     "metadata": {},
     "output_type": "execute_result"
    },
    {
     "data": {
      "image/png": "[encoded data removed]",
      "text/plain": [
       "<Figure size 640x480 with 1 Axes>"
      ]
     },
     "metadata": {},
     "output_type": "display_data"
    }
   ],
   "source": [
    "bike_trips['PE_BICI'].value_counts().plot(kind='pie')"
   ]
  },
  {
   "cell_type": "code",
   "execution_count": 31,
   "metadata": {},
   "outputs": [
    {
     "data": {
      "text/plain": [
       "<AxesSubplot:ylabel='VIA_BICI'>"
      ]
     },
     "execution_count": 31,
     "metadata": {},
     "output_type": "execute_result"
    },
    {
     "data": {
      "image/png": "[encoded data removed]",
      "text/plain": [
       "<Figure size 640x480 with 1 Axes>"
      ]
     },
     "metadata": {},
     "output_type": "display_data"
    }
   ],
   "source": [
    "bike_trips['VIA_BICI'].value_counts().plot(kind='pie')"
   ]
  },
  {
   "cell_type": "code",
   "execution_count": 32,
   "metadata": {},
   "outputs": [
    {
     "data": {
      "text/plain": [
       "<AxesSubplot:ylabel='TP_ESBICI'>"
      ]
     },
     "execution_count": 32,
     "metadata": {},
     "output_type": "execute_result"
    },
    {
     "data": {
      "image/png": "[encoded data removed]",
      "text/plain": [
       "<Figure size 640x480 with 1 Axes>"
      ]
     },
     "metadata": {},
     "output_type": "display_data"
    }
   ],
   "source": [
    "bike_trips['TP_ESBICI'].value_counts().plot(kind='pie')"
   ]
  },
  {
   "cell_type": "code",
   "execution_count": 33,
   "metadata": {},
   "outputs": [],
   "source": [
    "walk_trips = data[data['TIPVG'] == 3]"
   ]
  },
  {
   "cell_type": "code",
   "execution_count": 34,
   "metadata": {},
   "outputs": [
    {
     "data": {
      "text/plain": [
       "<AxesSubplot:ylabel='PE_BICI'>"
      ]
     },
     "execution_count": 34,
     "metadata": {},
     "output_type": "execute_result"
    },
    {
     "data": {
      "image/png": "[encoded data removed]",
      "text/plain": [
       "<Figure size 640x480 with 1 Axes>"
      ]
     },
     "metadata": {},
     "output_type": "display_data"
    }
   ],
   "source": [
    "walk_trips['PE_BICI'].value_counts().plot(kind='pie')"
   ]
  },
  {
   "cell_type": "code",
   "execution_count": 35,
   "metadata": {},
   "outputs": [
    {
     "data": {
      "text/plain": [
       "True"
      ]
     },
     "execution_count": 35,
     "metadata": {},
     "output_type": "execute_result"
    }
   ],
   "source": [
    "len(data[data['MODOPRIN'] == 15]) == len(bike_trips)"
   ]
  },
  {
   "cell_type": "code",
   "execution_count": 36,
   "metadata": {},
   "outputs": [
    {
     "data": {
      "text/plain": [
       "21.775888717156104"
      ]
     },
     "execution_count": 36,
     "metadata": {},
     "output_type": "execute_result"
    }
   ],
   "source": [
    "bike_trips['DURACAO'].mean()"
   ]
  },
  {
   "cell_type": "code",
   "execution_count": 37,
   "metadata": {},
   "outputs": [
    {
     "data": {
      "text/plain": [
       "120.0"
      ]
     },
     "execution_count": 37,
     "metadata": {},
     "output_type": "execute_result"
    }
   ],
   "source": [
    "bike_trips['DURACAO'].max()"
   ]
  },
  {
   "cell_type": "code",
   "execution_count": 38,
   "metadata": {},
   "outputs": [
    {
     "data": {
      "text/plain": [
       "3.0"
      ]
     },
     "execution_count": 38,
     "metadata": {},
     "output_type": "execute_result"
    }
   ],
   "source": [
    "bike_trips['DURACAO'].min()"
   ]
  },
  {
   "cell_type": "code",
   "execution_count": 39,
   "metadata": {},
   "outputs": [
    {
     "data": {
      "text/plain": [
       "<AxesSubplot:ylabel='Frequency'>"
      ]
     },
     "execution_count": 39,
     "metadata": {},
     "output_type": "execute_result"
    },
    {
     "data": {
      "image/png": "[encoded data removed]",
      "text/plain": [
       "<Figure size 640x480 with 1 Axes>"
      ]
     },
     "metadata": {},
     "output_type": "display_data"
    }
   ],
   "source": [
    "bike_trips['DURACAO'].plot(kind='hist')"
   ]
  },
  {
   "cell_type": "code",
   "execution_count": 40,
   "metadata": {},
   "outputs": [
    {
     "data": {
      "text/plain": [
       "234.0245442046348"
      ]
     },
     "execution_count": 40,
     "metadata": {},
     "output_type": "execute_result"
    }
   ],
   "source": [
    "data['FE_PESS'].mean()"
   ]
  },
  {
   "cell_type": "code",
   "execution_count": 41,
   "metadata": {},
   "outputs": [
    {
     "data": {
      "text/plain": [
       "177.24886154714068"
      ]
     },
     "execution_count": 41,
     "metadata": {},
     "output_type": "execute_result"
    }
   ],
   "source": [
    "bike_trips['FE_PESS'].mean()"
   ]
  },
  {
   "cell_type": "code",
   "execution_count": 42,
   "metadata": {},
   "outputs": [
    {
     "data": {
      "text/plain": [
       "3.856896"
      ]
     },
     "execution_count": 42,
     "metadata": {},
     "output_type": "execute_result"
    }
   ],
   "source": [
    "bike_trips['FE_PESS'].min()"
   ]
  },
  {
   "cell_type": "code",
   "execution_count": 43,
   "metadata": {},
   "outputs": [
    {
     "data": {
      "text/plain": [
       "1609.992881"
      ]
     },
     "execution_count": 43,
     "metadata": {},
     "output_type": "execute_result"
    }
   ],
   "source": [
    "bike_trips['FE_PESS'].max()"
   ]
  },
  {
   "cell_type": "code",
   "execution_count": 44,
   "metadata": {},
   "outputs": [
    {
     "data": {
      "text/plain": [
       "229360.02684200002"
      ]
     },
     "execution_count": 44,
     "metadata": {},
     "output_type": "execute_result"
    }
   ],
   "source": [
    "bike_trips['FE_PESS'].sum()"
   ]
  },
  {
   "cell_type": "code",
   "execution_count": 45,
   "metadata": {},
   "outputs": [
    {
     "data": {
      "text/plain": [
       "0.005352873177161665"
      ]
     },
     "execution_count": 45,
     "metadata": {},
     "output_type": "execute_result"
    }
   ],
   "source": [
    "bike_trips['FE_PESS'].sum()/data['FE_PESS'].sum()"
   ]
  },
  {
   "cell_type": "code",
   "execution_count": 46,
   "metadata": {},
   "outputs": [
    {
     "data": {
      "text/plain": [
       "42848021.847514994"
      ]
     },
     "execution_count": 46,
     "metadata": {},
     "output_type": "execute_result"
    }
   ],
   "source": [
    "data['FE_PESS'].sum()"
   ]
  },
  {
   "cell_type": "code",
   "execution_count": 47,
   "metadata": {},
   "outputs": [
    {
     "data": {
      "text/plain": [
       "229360.02684200002"
      ]
     },
     "execution_count": 47,
     "metadata": {},
     "output_type": "execute_result"
    }
   ],
   "source": [
    "bike_trips['FE_PESS'].sum()"
   ]
  },
  {
   "cell_type": "code",
   "execution_count": 58,
   "metadata": {},
   "outputs": [],
   "source": [
    "city_sao_paulo = data[(data['MUNI_O'] == 36) | (data['MUNI_T1'] == 36) | (data['MUNI_T2'] == 36) | (data['MUNI_T3'] == 36) | (data['MUNI_D'] == 36) |  (data['MUNI_DOM'] == 36)]"
   ]
  },
  {
   "cell_type": "code",
   "execution_count": 60,
   "metadata": {},
   "outputs": [],
   "source": [
    "city_sao_paulo = data[(data['MUNI_O'] == 36) | (data['MUNI_T1'] == 36) | (data['MUNI_T2'] == 36) | (data['MUNI_T3'] == 36) | (data['MUNI_D'] == 36)]"
   ]
  },
  {
   "cell_type": "code",
   "execution_count": 61,
   "metadata": {},
   "outputs": [
    {
     "data": {
      "text/plain": [
       "24019833.780392997"
      ]
     },
     "execution_count": 61,
     "metadata": {},
     "output_type": "execute_result"
    }
   ],
   "source": [
    "city_sao_paulo['FE_PESS'].sum()"
   ]
  },
  {
   "cell_type": "code",
   "execution_count": null,
   "metadata": {},
   "outputs": [],
   "source": [
    "city_sao_paulo['FE_PESS'].sum()"
   ]
  },
  {
   "cell_type": "code",
   "execution_count": 63,
   "metadata": {},
   "outputs": [
    {
     "data": {
      "text/plain": [
       "963"
      ]
     },
     "execution_count": 63,
     "metadata": {},
     "output_type": "execute_result"
    }
   ],
   "source": [
    "bike_trips_sp = city_sao_paulo[city_sao_paulo['TIPVG'] == 4]\n",
    "len(bike_trips_sp)"
   ]
  },
  {
   "cell_type": "code",
   "execution_count": 66,
   "metadata": {},
   "outputs": [
    {
     "data": {
      "text/plain": [
       "0.005553239231234079"
      ]
     },
     "execution_count": 66,
     "metadata": {},
     "output_type": "execute_result"
    }
   ],
   "source": [
    "bike_trips_sp['FE_PESS'].sum()/city_sao_paulo['FE_PESS'].sum()"
   ]
  },
  {
   "cell_type": "code",
   "execution_count": 1,
   "metadata": {},
   "outputs": [
    {
     "ename": "NameError",
     "evalue": "name 'data' is not defined",
     "output_type": "error",
     "traceback": [
      "\u001b[0;31m---------------------------------------------------------------------------\u001b[0m",
      "\u001b[0;31mNameError\u001b[0m                                 Traceback (most recent call last)",
      "\u001b[1;32m/home/oem/Documents/ic/bikesp-analysis/data_analysis/OD/gender.ipynb Cell 56\u001b[0m line \u001b[0;36m1\n\u001b[0;32m----> <a href='vscode-notebook-cell:/home/oem/Documents/ic/bikesp-analysis/data_analysis/OD/gender.ipynb#Y106sZmlsZQ%3D%3D?line=0'>1</a>\u001b[0m data\u001b[39m.\u001b[39mgroupby(\u001b[39m'\u001b[39m\u001b[39mTIPVG\u001b[39m\u001b[39m'\u001b[39m)[\u001b[39m'\u001b[39m\u001b[39mFE_PESS\u001b[39m\u001b[39m'\u001b[39m]\u001b[39m.\u001b[39msum()\n",
      "\u001b[0;31mNameError\u001b[0m: name 'data' is not defined"
     ]
    }
   ],
   "source": [
    "data.groupby('TIPVG')['FE_PESS'].sum()"
   ]
  }
 ],
 "metadata": {
  "kernelspec": {
   "display_name": "Python 3",
   "language": "python",
   "name": "python3"
  },
  "language_info": {
   "codemirror_mode": {
    "name": "ipython",
    "version": 3
   },
   "file_extension": ".py",
   "mimetype": "text/x-python",
   "name": "python",
   "nbconvert_exporter": "python",
   "pygments_lexer": "ipython3",
   "version": "3.10.12"
  },
  "orig_nbformat": 4
 },
 "nbformat": 4,
 "nbformat_minor": 2
}
