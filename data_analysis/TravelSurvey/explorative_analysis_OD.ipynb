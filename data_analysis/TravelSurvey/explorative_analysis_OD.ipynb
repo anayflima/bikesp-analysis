{
 "cells": [
  {
   "cell_type": "code",
   "execution_count": 1,
   "metadata": {},
   "outputs": [],
   "source": [
    "import pandas as pd\n",
    "pd.set_option('display.max_columns', None)\n",
    "pd.options.mode.chained_assignment = None  # default='warn'\n",
    "import os\n",
    "from modules.TravelSurveyAnalysis import TravelSurveyAnalysis\n",
    "\n",
    "if 'TravelSurvey' in os.getcwd():\n",
    "    data_folder = '../../data/'\n",
    "elif 'data_analysis' in os.getcwd():\n",
    "    data_folder = '../data/'\n",
    "else:\n",
    "    data_folder = './data/'\n",
    "\n",
    "source_folder_path = data_folder + 'OD/OD_2017/'\n",
    "destination_folder_path = data_folder + 'OD/OD_2017/'"
   ]
  },
  {
   "cell_type": "code",
   "execution_count": 2,
   "metadata": {},
   "outputs": [],
   "source": [
    "expansion_factor_trip = 'FE_VIA'\n",
    "expansion_factor_person = 'FE_PESS'\n",
    "\n",
    "tsa = TravelSurveyAnalysis(source_folder_path, destination_folder_path,\n",
    "                           expansion_factor_trip, expansion_factor_person)"
   ]
  },
  {
   "cell_type": "code",
   "execution_count": 3,
   "metadata": {},
   "outputs": [],
   "source": [
    "filename = 'OD_2017_v1.csv'\n",
    "\n",
    "data = tsa.read_data(filename)"
   ]
  },
  {
   "cell_type": "markdown",
   "metadata": {},
   "source": [
    "## Column TIPVG ('Tipo de Viagem') versus MODOPRIN (Modo principal)"
   ]
  },
  {
   "cell_type": "code",
   "execution_count": 4,
   "metadata": {},
   "outputs": [],
   "source": [
    "column_trip_type = 'TIPVG'\n",
    "column_main_mode = 'MODOPRIN'"
   ]
  },
  {
   "cell_type": "code",
   "execution_count": 5,
   "metadata": {},
   "outputs": [
    {
     "data": {
      "text/plain": [
       "array([ 3.,  1.,  2., nan,  4.])"
      ]
     },
     "execution_count": 5,
     "metadata": {},
     "output_type": "execute_result"
    }
   ],
   "source": [
    "data[column_trip_type].unique()"
   ]
  },
  {
   "cell_type": "code",
   "execution_count": 6,
   "metadata": {},
   "outputs": [
    {
     "data": {
      "text/plain": [
       "array([16.,  1., 12., nan,  4.,  9.,  7., 11., 10.,  8., 17.,  2., 13.,\n",
       "       15., 14.,  6.,  5.,  3.])"
      ]
     },
     "execution_count": 6,
     "metadata": {},
     "output_type": "execute_result"
    }
   ],
   "source": [
    "data[column_main_mode].unique()"
   ]
  },
  {
   "cell_type": "code",
   "execution_count": 7,
   "metadata": {},
   "outputs": [],
   "source": [
    "# OD 2007\n",
    "# mode_index_map = {1: '01 - Ônibus Município S.Paulo', 2: '02 - Ônibus outros Municípios',\n",
    "#                   3: '03 - Ônibus Metropolitano', 4: '04 - Ônibus Fretado',\n",
    "#                   5: '05 - Escolar', 6: '06 - Dirigindo Automóvel', 7: '07 - Passageiro de Automóvel',\n",
    "#                   8: '08 - Táxi', 9: '09 - Microônibus/Van Município de S.Paulo', 10: '10 - Microônibus/Van outros Município',\n",
    "#                   11: '11 - Microônibus/Van Metropolitano', 12: '12 - Metrô', 13: '13 - Trem', 14: '14 - Moto', 15: '15 - Bicicleta',\n",
    "#                   16: '16 - A pé', 17: '17 - Outros'}"
   ]
  },
  {
   "cell_type": "code",
   "execution_count": 8,
   "metadata": {},
   "outputs": [],
   "source": [
    "# collective_filter = ['01 - Ônibus Município S.Paulo', '02 - Ônibus outros Municípios',\n",
    "#                     '03 - Ônibus Metropolitano', '04 - Ônibus Fretado',\n",
    "#                     '05 - Escolar', '09 - Microônibus/Van Município de S.Paulo', '10 - Microônibus/Van outros Município',\n",
    "#                     '12 - Metrô', '13 - Trem']\n",
    "\n",
    "# individual_filter = ['06 - Dirigindo Automóvel', '07 - Passageiro de Automóvel', '08 - Táxi',  '14 - Moto']\n",
    "# bike_filter = ['15 - Bicicleta']\n",
    "# walk_filter = ['16 - A pé']\n",
    "# other_filter = ['17 - Outros']"
   ]
  },
  {
   "cell_type": "code",
   "execution_count": null,
   "metadata": {},
   "outputs": [],
   "source": [
    "# OD 1997\n",
    "# collective_filter = ['01 - Ônibus', '02 - Ônibus Fretado', '03 - Transporte Escolar',\n",
    "#                     '06 - Ônibus/micro-ônibus/perua metropolitano',\n",
    "#                     '07 - Lotação/Perua', '08 - Metrô', '09 - Trem']\n",
    "\n",
    "# individual_filter = ['04 - Dirigindo Automóvel', '05 - Passageiro de Automóvel',\n",
    "#                     '06 - Táxi', '10 - Moto', '13 - Outros']\n",
    "# walk_filter = ['12 - A Pé']\n",
    "# bike_filter = ['11 - Bicicleta']"
   ]
  },
  {
   "cell_type": "code",
   "execution_count": 9,
   "metadata": {},
   "outputs": [],
   "source": [
    "# OD 2017\n",
    "mode_index_map = {1: '01 - Metrô', 2: '02 - Trem', 3:'03 - Monotrilho',4:'04 - Ônibus/micro-ônibus/perua do município de São Paulo',\n",
    "                  5:'05 - Ônibus/micro-ônibus/perua de outros municípios',6: '06 - Ônibus/micro-ônibus/perua metropolitano',\n",
    "                  7:'07 - Transporte Fretado',8:'08 - Transporte Escolar',9:'09 - Dirigindo Automóvel',10:'10 - Passageiro de Automóvel',\n",
    "                  11: '11 - Táxi Convencional',12:'12 - Táxi não Convencional', 13: '13 - Dirigindo Moto', 14: '14 - Passageiro de Moto',\n",
    "                  15: '15 - Bicicleta', 16: '16 - A Pé', 17: '17 - Outros'}"
   ]
  },
  {
   "cell_type": "code",
   "execution_count": 10,
   "metadata": {},
   "outputs": [
    {
     "data": {
      "text/html": [
       "<div>\n",
       "<style scoped>\n",
       "    .dataframe tbody tr th:only-of-type {\n",
       "        vertical-align: middle;\n",
       "    }\n",
       "\n",
       "    .dataframe tbody tr th {\n",
       "        vertical-align: top;\n",
       "    }\n",
       "\n",
       "    .dataframe thead th {\n",
       "        text-align: right;\n",
       "    }\n",
       "</style>\n",
       "<table border=\"1\" class=\"dataframe\">\n",
       "  <thead>\n",
       "    <tr style=\"text-align: right;\">\n",
       "      <th></th>\n",
       "      <th>MODOPRIN_new</th>\n",
       "    </tr>\n",
       "  </thead>\n",
       "  <tbody>\n",
       "    <tr>\n",
       "      <th>16 - A Pé</th>\n",
       "      <td>30.561674</td>\n",
       "    </tr>\n",
       "    <tr>\n",
       "      <th>09 - Dirigindo Automóvel</th>\n",
       "      <td>23.422072</td>\n",
       "    </tr>\n",
       "    <tr>\n",
       "      <th>04 - Ônibus/micro-ônibus/perua do município de São Paulo</th>\n",
       "      <td>11.780343</td>\n",
       "    </tr>\n",
       "    <tr>\n",
       "      <th>01 - Metrô</th>\n",
       "      <td>8.909945</td>\n",
       "    </tr>\n",
       "    <tr>\n",
       "      <th>10 - Passageiro de Automóvel</th>\n",
       "      <td>8.423211</td>\n",
       "    </tr>\n",
       "    <tr>\n",
       "      <th>08 - Transporte Escolar</th>\n",
       "      <td>4.090713</td>\n",
       "    </tr>\n",
       "    <tr>\n",
       "      <th>05 - Ônibus/micro-ônibus/perua de outros municípios</th>\n",
       "      <td>3.522330</td>\n",
       "    </tr>\n",
       "    <tr>\n",
       "      <th>13 - Dirigindo Moto</th>\n",
       "      <td>1.927313</td>\n",
       "    </tr>\n",
       "    <tr>\n",
       "      <th>02 - Trem</th>\n",
       "      <td>1.851993</td>\n",
       "    </tr>\n",
       "    <tr>\n",
       "      <th>06 - Ônibus/micro-ônibus/perua metropolitano</th>\n",
       "      <td>1.769077</td>\n",
       "    </tr>\n",
       "    <tr>\n",
       "      <th>12 - Táxi não Convencional</th>\n",
       "      <td>1.476657</td>\n",
       "    </tr>\n",
       "    <tr>\n",
       "      <th>15 - Bicicleta</th>\n",
       "      <td>0.819029</td>\n",
       "    </tr>\n",
       "    <tr>\n",
       "      <th>11 - Táxi Convencional</th>\n",
       "      <td>0.579776</td>\n",
       "    </tr>\n",
       "    <tr>\n",
       "      <th>07 - Transporte Fretado</th>\n",
       "      <td>0.441795</td>\n",
       "    </tr>\n",
       "    <tr>\n",
       "      <th>17 - Outros</th>\n",
       "      <td>0.250013</td>\n",
       "    </tr>\n",
       "    <tr>\n",
       "      <th>14 - Passageiro de Moto</th>\n",
       "      <td>0.173427</td>\n",
       "    </tr>\n",
       "    <tr>\n",
       "      <th>03 - Monotrilho</th>\n",
       "      <td>0.000633</td>\n",
       "    </tr>\n",
       "  </tbody>\n",
       "</table>\n",
       "</div>"
      ],
      "text/plain": [
       "                                                    MODOPRIN_new\n",
       "16 - A Pé                                              30.561674\n",
       "09 - Dirigindo Automóvel                               23.422072\n",
       "04 - Ônibus/micro-ônibus/perua do município de ...     11.780343\n",
       "01 - Metrô                                              8.909945\n",
       "10 - Passageiro de Automóvel                            8.423211\n",
       "08 - Transporte Escolar                                 4.090713\n",
       "05 - Ônibus/micro-ônibus/perua de outros municí...      3.522330\n",
       "13 - Dirigindo Moto                                     1.927313\n",
       "02 - Trem                                               1.851993\n",
       "06 - Ônibus/micro-ônibus/perua metropolitano            1.769077\n",
       "12 - Táxi não Convencional                              1.476657\n",
       "15 - Bicicleta                                          0.819029\n",
       "11 - Táxi Convencional                                  0.579776\n",
       "07 - Transporte Fretado                                 0.441795\n",
       "17 - Outros                                             0.250013\n",
       "14 - Passageiro de Moto                                 0.173427\n",
       "03 - Monotrilho                                         0.000633"
      ]
     },
     "execution_count": 10,
     "metadata": {},
     "output_type": "execute_result"
    }
   ],
   "source": [
    "# df = tsa.calculate_distribution(data, column_trip_type, expansion_factor_trip, type_index_map)\n",
    "df = tsa.calculate_distribution(data, column_main_mode, False, mode_index_map)\n",
    "df"
   ]
  },
  {
   "cell_type": "code",
   "execution_count": 16,
   "metadata": {},
   "outputs": [],
   "source": [
    "collective_filter = ['01 - Metrô', '02 - Trem',\n",
    "                    '03 - Monotrilho', '04 - Ônibus/micro-ônibus/perua do município de São Paulo',\n",
    "                    '05 - Ônibus/micro-ônibus/perua de outros municípios', '06 - Ônibus/micro-ônibus/perua metropolitano',\n",
    "                    '07 - Transporte Fretado', '08 - Transporte Escolar']\n",
    "\n",
    "individual_filter = ['09 - Dirigindo Automóvel', '10 - Passageiro de Automóvel', '11 - Táxi Convencional',  '12 - Táxi não Convencional',\n",
    "                     '13 - Dirigindo Moto', '14 - Passageiro de Moto']\n",
    "bike_filter = ['15 - Bicicleta']\n",
    "walk_filter = ['16 - A Pé']\n",
    "other_filter = ['17 - Outros']"
   ]
  },
  {
   "cell_type": "code",
   "execution_count": 24,
   "metadata": {},
   "outputs": [
    {
     "data": {
      "text/html": [
       "<div>\n",
       "<style scoped>\n",
       "    .dataframe tbody tr th:only-of-type {\n",
       "        vertical-align: middle;\n",
       "    }\n",
       "\n",
       "    .dataframe tbody tr th {\n",
       "        vertical-align: top;\n",
       "    }\n",
       "\n",
       "    .dataframe thead th {\n",
       "        text-align: right;\n",
       "    }\n",
       "</style>\n",
       "<table border=\"1\" class=\"dataframe\">\n",
       "  <thead>\n",
       "    <tr style=\"text-align: right;\">\n",
       "      <th></th>\n",
       "      <th>TIPVG_new</th>\n",
       "    </tr>\n",
       "  </thead>\n",
       "  <tbody>\n",
       "    <tr>\n",
       "      <th>Individual</th>\n",
       "      <td>36.252468</td>\n",
       "    </tr>\n",
       "    <tr>\n",
       "      <th>Collective</th>\n",
       "      <td>32.366829</td>\n",
       "    </tr>\n",
       "    <tr>\n",
       "      <th>On foot</th>\n",
       "      <td>30.561674</td>\n",
       "    </tr>\n",
       "    <tr>\n",
       "      <th>Bicycle</th>\n",
       "      <td>0.819029</td>\n",
       "    </tr>\n",
       "  </tbody>\n",
       "</table>\n",
       "</div>"
      ],
      "text/plain": [
       "            TIPVG_new\n",
       "Individual  36.252468\n",
       "Collective  32.366829\n",
       "On foot     30.561674\n",
       "Bicycle      0.819029"
      ]
     },
     "execution_count": 24,
     "metadata": {},
     "output_type": "execute_result"
    }
   ],
   "source": [
    "type_index_map = {1: 'Collective', 2: 'Individual', 3: 'On foot', 4: 'Bicycle'}\n",
    "# df = tsa.calculate_distribution(data, column_trip_type, expansion_factor_trip, type_index_map)\n",
    "tsa.calculate_distribution(data, column_trip_type, False, type_index_map)"
   ]
  },
  {
   "cell_type": "code",
   "execution_count": 17,
   "metadata": {},
   "outputs": [
    {
     "data": {
      "text/plain": [
       "MODOPRIN_new    32.366829\n",
       "dtype: float64"
      ]
     },
     "execution_count": 17,
     "metadata": {},
     "output_type": "execute_result"
    }
   ],
   "source": [
    "df.loc[collective_filter].sum() "
   ]
  },
  {
   "cell_type": "code",
   "execution_count": 18,
   "metadata": {},
   "outputs": [
    {
     "data": {
      "text/plain": [
       "MODOPRIN_new    36.002456\n",
       "dtype: float64"
      ]
     },
     "execution_count": 18,
     "metadata": {},
     "output_type": "execute_result"
    }
   ],
   "source": [
    "df.loc[individual_filter].sum()"
   ]
  },
  {
   "cell_type": "code",
   "execution_count": 23,
   "metadata": {},
   "outputs": [
    {
     "data": {
      "text/plain": [
       "MODOPRIN_new    36.252468\n",
       "dtype: float64"
      ]
     },
     "execution_count": 23,
     "metadata": {},
     "output_type": "execute_result"
    }
   ],
   "source": [
    "df.loc[individual_filter].sum() + df.loc[other_filter].sum()"
   ]
  },
  {
   "cell_type": "code",
   "execution_count": 21,
   "metadata": {},
   "outputs": [
    {
     "data": {
      "text/plain": [
       "MODOPRIN_new    0.819029\n",
       "dtype: float64"
      ]
     },
     "execution_count": 21,
     "metadata": {},
     "output_type": "execute_result"
    }
   ],
   "source": [
    "df.loc[bike_filter].sum()"
   ]
  },
  {
   "cell_type": "code",
   "execution_count": 22,
   "metadata": {},
   "outputs": [
    {
     "data": {
      "text/plain": [
       "MODOPRIN_new    0.250013\n",
       "dtype: float64"
      ]
     },
     "execution_count": 22,
     "metadata": {},
     "output_type": "execute_result"
    }
   ],
   "source": [
    "df.loc[other_filter].sum()"
   ]
  }
 ],
 "metadata": {
  "kernelspec": {
   "display_name": "Python 3",
   "language": "python",
   "name": "python3"
  },
  "language_info": {
   "codemirror_mode": {
    "name": "ipython",
    "version": 3
   },
   "file_extension": ".py",
   "mimetype": "text/x-python",
   "name": "python",
   "nbconvert_exporter": "python",
   "pygments_lexer": "ipython3",
   "version": "3.10.12"
  }
 },
 "nbformat": 4,
 "nbformat_minor": 2
}
